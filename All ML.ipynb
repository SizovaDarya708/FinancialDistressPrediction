{
 "cells": [
  {
   "cell_type": "code",
   "execution_count": 1,
   "metadata": {},
   "outputs": [],
   "source": [
    "import sys\n",
    "import pandas as pd\n",
    "import numpy as np\n",
    "%matplotlib inline"
   ]
  },
  {
   "cell_type": "markdown",
   "metadata": {},
   "source": [
    "https://www.kaggle.com/adithyajere/financial-distress-pred-all-ml-classifiers"
   ]
  },
  {
   "cell_type": "code",
   "execution_count": 2,
   "metadata": {},
   "outputs": [],
   "source": [
    "from sklearn.preprocessing import LabelBinarizer\n",
    "from sklearn.preprocessing import StandardScaler, MinMaxScaler\n",
    "from sklearn.metrics import f1_score, recall_score\n",
    "from sklearn.metrics import confusion_matrix\n",
    "\n",
    "from sklearn.model_selection import TimeSeriesSplit"
   ]
  },
  {
   "cell_type": "code",
   "execution_count": 3,
   "metadata": {},
   "outputs": [],
   "source": [
    "\n",
    "companies = pd.read_csv('Distress.csv')\n",
    "companies.rename(index=str, columns={\"Company\": \"company\", \"Time\": \"time\", \"Financial Distress\": \"financial_distress\"}, inplace=True)"
   ]
  },
  {
   "cell_type": "code",
   "execution_count": 4,
   "metadata": {},
   "outputs": [
    {
     "name": "stdout",
     "output_type": "stream",
     "text": [
      "422\n",
      "(136,)\n",
      "['x1', 'x2', 'x3', 'x4', 'x5', 'x6', 'x7', 'x8', 'x9', 'x10', 'x11', 'x12', 'x13', 'x14', 'x15', 'x16', 'x17', 'x18', 'x19', 'x20', 'x21', 'x22', 'x23', 'x24', 'x25', 'x26', 'x27', 'x28', 'x29', 'x30', 'x31', 'x32', 'x33', 'x34', 'x35', 'x36', 'x37', 'x38', 'x39', 'x40', 'x41', 'x42', 'x43', 'x44', 'x45', 'x46', 'x47', 'x48', 'x49', 'x50', 'x51', 'x52', 'x53', 'x54', 'x55', 'x56', 'x57', 'x58', 'x59', 'x60', 'x61', 'x62', 'x63', 'x64', 'x65', 'x66', 'x67', 'x68', 'x69', 'x70', 'x71', 'x72', 'x73', 'x74', 'x75', 'x76', 'x77', 'x78', 'x79', 'x80', 'x81', 'x82', 'x83']\n"
     ]
    }
   ],
   "source": [
    "total_n = len(companies.groupby('company')['company'].nunique())\n",
    "print(total_n)\n",
    "\n",
    "distress_companies = companies[companies['financial_distress'] < -0.5]\n",
    "u_distress = distress_companies['company'].unique()\n",
    "print(u_distress.shape)\n",
    "\n",
    "feature_names = list(companies.columns.values)[3:] # ignore first 3: company, time, financial_distress\n",
    "print(feature_names)"
   ]
  },
  {
   "cell_type": "code",
   "execution_count": 5,
   "metadata": {},
   "outputs": [],
   "source": [
    "f80 = list(companies.groupby('company')['x80'].agg('mean'))\n",
    "f80 = [int(c) for c in f80]"
   ]
  },
  {
   "cell_type": "code",
   "execution_count": 10,
   "metadata": {},
   "outputs": [
    {
     "data": {
      "text/plain": [
       "array([[<matplotlib.axes._subplots.AxesSubplot object at 0x000001F5ED550AC8>]],\n",
       "      dtype=object)"
      ]
     },
     "execution_count": 10,
     "metadata": {},
     "output_type": "execute_result"
    },
    {
     "data": {
      "image/png": "[encoded data removed]",
      "text/plain": [
       "<Figure size 432x288 with 1 Axes>"
      ]
     },
     "metadata": {
      "needs_background": "light"
     },
     "output_type": "display_data"
    }
   ],
   "source": [
    "companies.hist(column=['time'], bins=14)"
   ]
  },
  {
   "cell_type": "code",
   "execution_count": 11,
   "metadata": {},
   "outputs": [
    {
     "data": {
      "text/plain": [
       "array([[<matplotlib.axes._subplots.AxesSubplot object at 0x000001F5ECE96198>]],\n",
       "      dtype=object)"
      ]
     },
     "execution_count": 11,
     "metadata": {},
     "output_type": "execute_result"
    },
    {
     "data": {
      "image/png": "[encoded data removed]",
      "text/plain": [
       "<Figure size 432x288 with 1 Axes>"
      ]
     },
     "metadata": {
      "needs_background": "light"
     },
     "output_type": "display_data"
    }
   ],
   "source": [
    "distress_companies.hist(column=['time'], bins=14)"
   ]
  },
  {
   "cell_type": "code",
   "execution_count": 6,
   "metadata": {},
   "outputs": [
    {
     "name": "stdout",
     "output_type": "stream",
     "text": [
      "Populating dictionary...\n"
     ]
    }
   ],
   "source": [
    "\n",
    "datadict = {}\n",
    "distress_dict = {}\n",
    "\n",
    "for i in range (1, total_n+1):\n",
    "    datadict[i] = {}\n",
    "    distress_dict[i] = {}\n",
    "\n",
    "print(\"Populating dictionary...\")\n",
    "for idx, row in companies.iterrows():\n",
    "    company = row['company']\n",
    "    time = int(row['time'])\n",
    "    \n",
    "    datadict[company][time] = {}\n",
    "    \n",
    "    if row['financial_distress'] < -0.5:\n",
    "        distress_dict[company][time] = 1\n",
    "    else:\n",
    "        distress_dict[company][time] = 0\n",
    "        \n",
    "    for feat_idx, column in enumerate(row[3:]):\n",
    "        feat = feature_names[feat_idx]\n",
    "        datadict[company][time][feat] = column\n",
    "        \n",
    "label_binarizer = LabelBinarizer()\n",
    "label_binarizer.fit(range(max(f80)))\n",
    "f80_oh = label_binarizer.transform(f80)"
   ]
  },
  {
   "cell_type": "code",
   "execution_count": 8,
   "metadata": {},
   "outputs": [
    {
     "name": "stdout",
     "output_type": "stream",
     "text": [
      "(1678, 203)\n",
      "(687, 203)\n",
      "(499, 203)\n"
     ]
    }
   ],
   "source": [
    "def rolling_operation(time, train_array, datadict, distress_dict, feature_names, total_n,\n",
    "                         lookback_periods):\n",
    "\n",
    "    for company in range(1, total_n+1):\n",
    "            \n",
    "            all_periods_exist = True\n",
    "            for j in range(0, lookback_periods):\n",
    "                if not time-j in distress_dict[company]:\n",
    "                    all_periods_exist = False\n",
    "            if not all_periods_exist:\n",
    "                continue\n",
    "            \n",
    "            distress_at_eop = distress_dict[company][time]\n",
    "            new_row = [company]\n",
    "\n",
    "            for feature in feature_names:\n",
    "                if feature == 'x80':\n",
    "                    continue\n",
    "                feat_sum = 0.0\n",
    "                variance_arr = []\n",
    "                for j in range(0, lookback_periods):\n",
    "                    feat_sum += datadict[company][time-j][feature]\n",
    "                    variance_arr.append(datadict[company][time-j][feature])\n",
    "                new_row.append(feat_sum)\n",
    "                new_row.append(np.var(variance_arr))\n",
    "                \n",
    "            for j in range(0,len(f80_oh[0])):\n",
    "                new_row.append(f80_oh[company-1][j])\n",
    "\n",
    "            if len(new_row) == ((len(feature_names)-1)*2 + 1 + len(f80_oh[0])) : # we have a complete row\n",
    "                new_row.append(distress_at_eop)\n",
    "                new_row_np = np.asarray(new_row)\n",
    "                train_array.append(new_row_np)\n",
    "    \n",
    "\n",
    "def custom_timeseries_cv(datadict, distress_dict, feature_names, total_n, val_time, test_time, \n",
    "                         lookback_periods, total_periods=14):\n",
    "\n",
    "    # Train data\n",
    "    train_array = []\n",
    "    for _t in range(1, val_time+1):\n",
    "        time = (val_time+1) -_t # Start from time period 10 and work backwards\n",
    "        train_array_np = rolling_operation(time, train_array, datadict, distress_dict, feature_names, total_n,\n",
    "                         lookback_periods)\n",
    "\n",
    "    train_array_np = np.asarray(train_array)\n",
    "    print(train_array_np.shape)\n",
    "    # print(train_array_np[0])\n",
    "    \n",
    "    # Val data\n",
    "    if val_time != test_time:\n",
    "        val_array = []\n",
    "        for time in range(val_time+1, test_time+1):\n",
    "            val_array_np = rolling_operation(time, val_array, datadict, distress_dict, feature_names, total_n,\n",
    "                         lookback_periods)\n",
    "\n",
    "        val_array_np = np.asarray(val_array)\n",
    "        print(val_array_np.shape)\n",
    "        # print(val_array_np[0])\n",
    "    else:\n",
    "        val_array_np = None\n",
    "\n",
    "    # Test data\n",
    "    test_array = []\n",
    "    # start from time period 11 and work forwards\n",
    "    for time in range(test_time+1,total_periods+1):\n",
    "        test_array_np = rolling_operation(time, test_array, datadict, distress_dict, feature_names, total_n,\n",
    "                         lookback_periods)\n",
    "\n",
    "    test_array_np = np.asarray(test_array)\n",
    "    print(test_array_np.shape)\n",
    "    # print(test_array_np[0])\n",
    "    \n",
    "    return train_array_np, val_array_np, test_array_np\n",
    "\n",
    "# Generate our sets\n",
    "train_array_np, val_array_np, test_array_np = custom_timeseries_cv(datadict, distress_dict, feature_names, total_n,\n",
    "                                                     val_time=9, test_time=12, lookback_periods=3, total_periods=14)"
   ]
  },
  {
   "cell_type": "code",
   "execution_count": 9,
   "metadata": {},
   "outputs": [],
   "source": [
    "X_train = train_array_np[:,0:train_array_np.shape[1]-1]\n",
    "y_train = train_array_np[:,-1].astype(int)\n",
    "\n",
    "X_val = val_array_np[:,0:val_array_np.shape[1]-1]\n",
    "y_val = val_array_np[:,-1].astype(int)\n",
    "\n",
    "X_test = test_array_np[:,0:test_array_np.shape[1]-1]\n",
    "y_test = test_array_np[:,-1].astype(int)\n",
    "\n",
    "np.set_printoptions(threshold=sys.maxsize)"
   ]
  },
  {
   "cell_type": "code",
   "execution_count": 19,
   "metadata": {},
   "outputs": [],
   "source": [
    "from sklearn.linear_model import Ridge, LogisticRegression\n",
    "from sklearn.tree import DecisionTreeClassifier\n",
    "from sklearn.ensemble import RandomForestClassifier\n",
    "\n",
    "def model_trial(model_type, hyperparam):\n",
    "    if model_type in ['logistic-regression']:\n",
    "        # Logistic Regression. Try 11, l2 penalty, understand one-vs-rest vs multinomial (cross-entropy) \n",
    "        model = LogisticRegression(penalty=hyperparam, solver='saga', max_iter=4000)\n",
    "    elif model_type in ['decision-tree']:\n",
    "        model = DecisionTreeClassifier(criterion='entropy', splitter='best', max_depth=None)\n",
    "    elif model_type in ['random-forest']:\n",
    "        model = RandomForestClassifier(n_estimators=hyperparam)\n",
    "    else:\n",
    "        print(\"Warning: model {} not recognized.\".format(model_type))\n",
    "        \n",
    "    model.fit(X_train, y_train)\n",
    "    y_pred = model.predict(X_val)\n",
    "\n",
    "    f1 = f1_score(y_val, y_pred)\n",
    "    recall = recall_score(y_val, y_pred)\n",
    "    print(\"Mean acc: %f\" % model.score(X_val, y_val))\n",
    "    print(\"F1: %f\" % f1)\n",
    "    print(\"Recall: %f\" % recall)"
   ]
  },
  {
   "cell_type": "code",
   "execution_count": 20,
   "metadata": {},
   "outputs": [
    {
     "name": "stdout",
     "output_type": "stream",
     "text": [
      "--------------------Logistic regression, l1:--------------------\n"
     ]
    },
    {
     "name": "stderr",
     "output_type": "stream",
     "text": [
      "C:\\Users\\darya\\Anaconda3\\lib\\site-packages\\sklearn\\linear_model\\_sag.py:330: ConvergenceWarning: The max_iter was reached which means the coef_ did not converge\n",
      "  \"the coef_ did not converge\", ConvergenceWarning)\n"
     ]
    },
    {
     "name": "stdout",
     "output_type": "stream",
     "text": [
      "Mean acc: 0.976710\n",
      "F1: 0.000000\n",
      "Recall: 0.000000\n",
      "--------------------Logistic regression, l2:--------------------\n"
     ]
    },
    {
     "name": "stderr",
     "output_type": "stream",
     "text": [
      "C:\\Users\\darya\\Anaconda3\\lib\\site-packages\\sklearn\\linear_model\\_sag.py:330: ConvergenceWarning: The max_iter was reached which means the coef_ did not converge\n",
      "  \"the coef_ did not converge\", ConvergenceWarning)\n"
     ]
    },
    {
     "name": "stdout",
     "output_type": "stream",
     "text": [
      "Mean acc: 0.976710\n",
      "F1: 0.000000\n",
      "Recall: 0.000000\n",
      "--------------------Decision tree:--------------------\n",
      "Mean acc: 0.930131\n",
      "F1: 0.200000\n",
      "Recall: 0.375000\n",
      "--------------------Random forest, 2 estimators:--------------------\n",
      "Mean acc: 0.969432\n",
      "F1: 0.322581\n",
      "Recall: 0.312500\n",
      "--------------------Random forest, 4 estimators:--------------------\n",
      "Mean acc: 0.970888\n",
      "F1: 0.090909\n",
      "Recall: 0.062500\n",
      "--------------------Random forest, 10 estimators:--------------------\n",
      "Mean acc: 0.972344\n",
      "F1: 0.173913\n",
      "Recall: 0.125000\n",
      "--------------------Random forest, 50 estimators:--------------------\n",
      "Mean acc: 0.978166\n",
      "F1: 0.210526\n",
      "Recall: 0.125000\n",
      "--------------------Random forest, 100 estimators:--------------------\n",
      "Mean acc: 0.979622\n",
      "F1: 0.300000\n",
      "Recall: 0.187500\n",
      "--------------------Random forest, 1000 estimators:--------------------\n",
      "Mean acc: 0.975255\n",
      "F1: 0.000000\n",
      "Recall: 0.000000\n"
     ]
    }
   ],
   "source": [
    "print(\"-\"*20 + \"Logistic regression, l1:\" + \"-\"*20)\n",
    "model_trial('logistic-regression', 'l1')\n",
    "\n",
    "print(\"-\"*20 + \"Logistic regression, l2:\" + \"-\"*20)\n",
    "model_trial('logistic-regression', 'l2')\n",
    "\n",
    "print(\"-\"*20 + \"Decision tree:\" + \"-\"*20)\n",
    "model_trial('decision-tree', None)\n",
    "\n",
    "for i in [2, 4, 10, 50, 100, 1000]:\n",
    "    print(\"-\"*20 + \"Random forest, {} estimators:\".format(i) + \"-\"*20)\n",
    "    model_trial('random-forest', i)"
   ]
  },
  {
   "cell_type": "code",
   "execution_count": 10,
   "metadata": {},
   "outputs": [],
   "source": [
    "from sklearn.metrics import f1_score\n",
    "from sklearn.metrics import roc_auc_score\n",
    "from sklearn.metrics import log_loss\n",
    "from sklearn.linear_model import LinearRegression\n",
    "from sklearn.naive_bayes import GaussianNB\n",
    "from sklearn.linear_model import SGDClassifier\n",
    "from sklearn import tree\n",
    "from sklearn.model_selection import train_test_split\n",
    "from sklearn.linear_model import LogisticRegression\n",
    "from sklearn import linear_model\n",
    "from sklearn.dummy import DummyClassifier\n",
    "from sklearn.metrics import accuracy_score\n",
    "from sklearn.ensemble import RandomForestClassifier\n",
    "from sklearn.linear_model import Perceptron\n",
    "from sklearn.linear_model import SGDClassifier\n",
    "from sklearn.tree import DecisionTreeClassifier\n",
    "from sklearn.neighbors import KNeighborsClassifier\n",
    "from sklearn.svm import SVC, LinearSVC\n",
    "from sklearn.naive_bayes import GaussianNB\n",
    "from sklearn import linear_model\n",
    "import xgboost as xgb\n",
    "from xgboost import XGBClassifier\n",
    "from sklearn.cluster import KMeans\n",
    "from lightgbm import LGBMClassifier"
   ]
  },
  {
   "cell_type": "code",
   "execution_count": 11,
   "metadata": {},
   "outputs": [
    {
     "data": {
      "text/plain": [
       "50.0"
      ]
     },
     "execution_count": 11,
     "metadata": {},
     "output_type": "execute_result"
    }
   ],
   "source": [
    "knn = KNeighborsClassifier(n_neighbors=15)\n",
    "clf = knn.fit(X_train, y_train)\n",
    "y_pred = clf.predict(X_test)\n",
    "acc_knb_model=roc_auc_score(y_test, y_pred)*100\n",
    "acc_knb_model"
   ]
  },
  {
   "cell_type": "code",
   "execution_count": 12,
   "metadata": {},
   "outputs": [
    {
     "name": "stderr",
     "output_type": "stream",
     "text": [
      "C:\\Users\\darya\\Anaconda3\\lib\\site-packages\\sklearn\\linear_model\\_logistic.py:764: ConvergenceWarning: lbfgs failed to converge (status=2):\n",
      "ABNORMAL_TERMINATION_IN_LNSRCH.\n",
      "\n",
      "Increase the number of iterations (max_iter) or scale the data as shown in:\n",
      "    https://scikit-learn.org/stable/modules/preprocessing.html\n",
      "Please also refer to the documentation for alternative solver options:\n",
      "    https://scikit-learn.org/stable/modules/linear_model.html#logistic-regression\n",
      "  extra_warning_msg=_LOGISTIC_SOLVER_CONVERGENCE_MSG)\n"
     ]
    },
    {
     "data": {
      "text/plain": [
       "50.0"
      ]
     },
     "execution_count": 12,
     "metadata": {},
     "output_type": "execute_result"
    }
   ],
   "source": [
    "lr = LogisticRegression(C = 0.2)\n",
    "clf1 = lr.fit(X_train, y_train)\n",
    "y_pred1 = clf1.predict(X_test)\n",
    "acc_log_reg=roc_auc_score(y_test, y_pred1)*100\n",
    "acc_log_reg"
   ]
  },
  {
   "cell_type": "code",
   "execution_count": 13,
   "metadata": {},
   "outputs": [
    {
     "data": {
      "text/plain": [
       "51.95175438596491"
      ]
     },
     "execution_count": 13,
     "metadata": {},
     "output_type": "execute_result"
    }
   ],
   "source": [
    "clf2 = GaussianNB().fit(X_train, y_train)\n",
    "y_pred2 = clf2.predict(X_test)\n",
    "acc_nb=roc_auc_score(y_test, y_pred2)*100\n",
    "acc_nb"
   ]
  },
  {
   "cell_type": "code",
   "execution_count": 14,
   "metadata": {},
   "outputs": [
    {
     "data": {
      "text/plain": [
       "68.86513157894737"
      ]
     },
     "execution_count": 14,
     "metadata": {},
     "output_type": "execute_result"
    }
   ],
   "source": [
    "clf3 = tree.DecisionTreeClassifier().fit(X_train, y_train)\n",
    "y_pred3 = clf3.predict(X_test)\n",
    "acc_dt=roc_auc_score(y_test, y_pred3)*100\n",
    "acc_dt"
   ]
  },
  {
   "cell_type": "code",
   "execution_count": 15,
   "metadata": {},
   "outputs": [
    {
     "data": {
      "text/plain": [
       "49.6875"
      ]
     },
     "execution_count": 15,
     "metadata": {},
     "output_type": "execute_result"
    }
   ],
   "source": [
    "clf4 = RandomForestClassifier(max_depth=5, random_state=0).fit(X_train, y_train)\n",
    "y_pred4 = clf4.predict(X_test)\n",
    "acc_rmf_model=roc_auc_score(y_test, y_pred4)*100\n",
    "acc_rmf_model"
   ]
  },
  {
   "cell_type": "code",
   "execution_count": 16,
   "metadata": {},
   "outputs": [
    {
     "data": {
      "text/plain": [
       "50.0"
      ]
     },
     "execution_count": 16,
     "metadata": {},
     "output_type": "execute_result"
    }
   ],
   "source": [
    "clf5 = SVC(gamma='auto').fit(X_train, y_train)\n",
    "y_pred5 = clf5.predict(X_test)\n",
    "acc_svm_model=roc_auc_score(y_test, y_pred5)*100\n",
    "acc_svm_model"
   ]
  },
  {
   "cell_type": "code",
   "execution_count": 17,
   "metadata": {},
   "outputs": [
    {
     "data": {
      "text/plain": [
       "95.5303933254"
      ]
     },
     "execution_count": 17,
     "metadata": {},
     "output_type": "execute_result"
    }
   ],
   "source": [
    "sgd_model=SGDClassifier()\n",
    "sgd_model.fit(X_train,y_train)\n",
    "sgd_pred=sgd_model.predict(X_test)\n",
    "acc_sgd=round(sgd_model.score(X_train,y_train)*100,10)\n",
    "acc_sgd"
   ]
  },
  {
   "cell_type": "code",
   "execution_count": 18,
   "metadata": {},
   "outputs": [
    {
     "data": {
      "text/plain": [
       "100.0"
      ]
     },
     "execution_count": 18,
     "metadata": {},
     "output_type": "execute_result"
    }
   ],
   "source": [
    "xgb_model=XGBClassifier()\n",
    "xgb_model.fit(X_train,y_train)\n",
    "xgb_pred=xgb_model.predict(X_test)\n",
    "acc_xgb=round(xgb_model.score(X_train,y_train)*100,10)\n",
    "acc_xgb"
   ]
  },
  {
   "cell_type": "code",
   "execution_count": 19,
   "metadata": {},
   "outputs": [
    {
     "data": {
      "text/plain": [
       "100.0"
      ]
     },
     "execution_count": 19,
     "metadata": {},
     "output_type": "execute_result"
    }
   ],
   "source": [
    "lgbm = LGBMClassifier()\n",
    "lgbm.fit(X_train,y_train)\n",
    "lgbm_pred=lgbm.predict(X_test)\n",
    "acc_lgbm=round(lgbm.score(X_train,y_train)*100,10)\n",
    "acc_lgbm"
   ]
  },
  {
   "cell_type": "code",
   "execution_count": 20,
   "metadata": {},
   "outputs": [
    {
     "data": {
      "text/plain": [
       "27.4436529893"
      ]
     },
     "execution_count": 20,
     "metadata": {},
     "output_type": "execute_result"
    }
   ],
   "source": [
    "regr = linear_model.LinearRegression()\n",
    "regr.fit(X_train,y_train)\n",
    "regr_pred=regr.predict(X_test)\n",
    "acc_regr=round(regr.score(X_train,y_train)*100,10)\n",
    "acc_regr"
   ]
  },
  {
   "cell_type": "code",
   "execution_count": 21,
   "metadata": {},
   "outputs": [
    {
     "data": {
      "text/html": [
       "<div>\n",
       "<style scoped>\n",
       "    .dataframe tbody tr th:only-of-type {\n",
       "        vertical-align: middle;\n",
       "    }\n",
       "\n",
       "    .dataframe tbody tr th {\n",
       "        vertical-align: top;\n",
       "    }\n",
       "\n",
       "    .dataframe thead th {\n",
       "        text-align: right;\n",
       "    }\n",
       "</style>\n",
       "<table border=\"1\" class=\"dataframe\">\n",
       "  <thead>\n",
       "    <tr style=\"text-align: right;\">\n",
       "      <th></th>\n",
       "      <th>Model</th>\n",
       "    </tr>\n",
       "    <tr>\n",
       "      <th>Score</th>\n",
       "      <th></th>\n",
       "    </tr>\n",
       "  </thead>\n",
       "  <tbody>\n",
       "    <tr>\n",
       "      <th>100.000000</th>\n",
       "      <td>XGBoost</td>\n",
       "    </tr>\n",
       "    <tr>\n",
       "      <th>100.000000</th>\n",
       "      <td>LightGBM</td>\n",
       "    </tr>\n",
       "    <tr>\n",
       "      <th>95.530393</th>\n",
       "      <td>Stochastic Gradient Decent</td>\n",
       "    </tr>\n",
       "    <tr>\n",
       "      <th>68.865132</th>\n",
       "      <td>Decision Tree</td>\n",
       "    </tr>\n",
       "    <tr>\n",
       "      <th>51.951754</th>\n",
       "      <td>Naive Bayes</td>\n",
       "    </tr>\n",
       "    <tr>\n",
       "      <th>50.000000</th>\n",
       "      <td>Support Vector Machines</td>\n",
       "    </tr>\n",
       "    <tr>\n",
       "      <th>50.000000</th>\n",
       "      <td>KNN</td>\n",
       "    </tr>\n",
       "    <tr>\n",
       "      <th>50.000000</th>\n",
       "      <td>Logistic Regression</td>\n",
       "    </tr>\n",
       "    <tr>\n",
       "      <th>49.687500</th>\n",
       "      <td>Random Forest</td>\n",
       "    </tr>\n",
       "    <tr>\n",
       "      <th>27.443653</th>\n",
       "      <td>Linear Regression</td>\n",
       "    </tr>\n",
       "  </tbody>\n",
       "</table>\n",
       "</div>"
      ],
      "text/plain": [
       "                                 Model\n",
       "Score                                 \n",
       "100.000000                     XGBoost\n",
       "100.000000                    LightGBM\n",
       "95.530393   Stochastic Gradient Decent\n",
       "68.865132                Decision Tree\n",
       "51.951754                  Naive Bayes\n",
       "50.000000      Support Vector Machines\n",
       "50.000000                          KNN\n",
       "50.000000          Logistic Regression\n",
       "49.687500                Random Forest\n",
       "27.443653            Linear Regression"
      ]
     },
     "execution_count": 21,
     "metadata": {},
     "output_type": "execute_result"
    }
   ],
   "source": [
    "results = pd.DataFrame({\n",
    "    'Model': ['Support Vector Machines', 'KNN', 'Logistic Regression', \n",
    "              'Random Forest','Stochastic Gradient Decent','Linear Regression','Naive Bayes','XGBoost','LightGBM','Decision Tree'],\n",
    "    'Score': [acc_svm_model, acc_knb_model, acc_log_reg, \n",
    "              acc_rmf_model,acc_sgd,acc_regr,acc_nb,acc_xgb,acc_lgbm,acc_dt]})\n",
    "result_df = results.sort_values(by='Score', ascending=False)\n",
    "result_df = result_df.set_index('Score')\n",
    "result_df"
   ]
  },
  {
   "cell_type": "code",
   "execution_count": null,
   "metadata": {},
   "outputs": [],
   "source": []
  },
  {
   "cell_type": "code",
   "execution_count": null,
   "metadata": {},
   "outputs": [],
   "source": []
  }
 ],
 "metadata": {
  "kernelspec": {
   "display_name": "Python 3",
   "language": "python",
   "name": "python3"
  },
  "language_info": {
   "codemirror_mode": {
    "name": "ipython",
    "version": 3
   },
   "file_extension": ".py",
   "mimetype": "text/x-python",
   "name": "python",
   "nbconvert_exporter": "python",
   "pygments_lexer": "ipython3",
   "version": "3.7.3"
  }
 },
 "nbformat": 4,
 "nbformat_minor": 4
}
