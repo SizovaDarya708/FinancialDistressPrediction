{
 "cells": [
  {
   "cell_type": "code",
   "execution_count": 3,
   "metadata": {},
   "outputs": [
    {
     "name": "stderr",
     "output_type": "stream",
     "text": [
      "C:\\Users\\darya\\Anaconda3\\lib\\site-packages\\sklearn\\utils\\validation.py:70: FutureWarning: Pass classes=[False  True], y=3436    False\n",
      "86      False\n",
      "1537    False\n",
      "2060    False\n",
      "3667    False\n",
      "2770    False\n",
      "1925    False\n",
      "2075    False\n",
      "1918    False\n",
      "950     False\n",
      "2739    False\n",
      "3263    False\n",
      "462      True\n",
      "2051    False\n",
      "3252    False\n",
      "1035    False\n",
      "1249    False\n",
      "2104    False\n",
      "2802    False\n",
      "3388    False\n",
      "3161    False\n",
      "2467    False\n",
      "731     False\n",
      "2667    False\n",
      "3525    False\n",
      "2732    False\n",
      "2324    False\n",
      "1657    False\n",
      "144      True\n",
      "1077    False\n",
      "        ...  \n",
      "3486    False\n",
      "1865    False\n",
      "978     False\n",
      "105     False\n",
      "1090    False\n",
      "1952    False\n",
      "554     False\n",
      "1036    False\n",
      "2513     True\n",
      "2970    False\n",
      "610     False\n",
      "453     False\n",
      "2893    False\n",
      "287     False\n",
      "267     False\n",
      "1686    False\n",
      "1562    False\n",
      "1000    False\n",
      "2361    False\n",
      "1956    False\n",
      "1999    False\n",
      "2113    False\n",
      "2187    False\n",
      "2193    False\n",
      "902     False\n",
      "3437    False\n",
      "1465    False\n",
      "2813    False\n",
      "842     False\n",
      "109     False\n",
      "Name: Financial Distress, Length: 2570, dtype: bool as keyword args. From version 0.25 passing these as positional arguments will result in an error\n",
      "  FutureWarning)\n"
     ]
    },
    {
     "name": "stdout",
     "output_type": "stream",
     "text": [
      "Epoch 1/20\n",
      "13/13 [==============================] - 0s 11ms/step - loss: 0.6888 - accuracy: 0.9039 - val_loss: 0.6822 - val_accuracy: 0.9628\n",
      "Epoch 2/20\n",
      "13/13 [==============================] - 0s 4ms/step - loss: 0.6713 - accuracy: 0.9630 - val_loss: 0.6482 - val_accuracy: 0.9628\n",
      "Epoch 3/20\n",
      "13/13 [==============================] - 0s 6ms/step - loss: 0.5957 - accuracy: 0.9630 - val_loss: 0.4910 - val_accuracy: 0.9628\n",
      "Epoch 4/20\n",
      "13/13 [==============================] - 0s 7ms/step - loss: 0.3318 - accuracy: 0.9630 - val_loss: 0.1739 - val_accuracy: 0.9628\n",
      "Epoch 5/20\n",
      "13/13 [==============================] - 0s 10ms/step - loss: 0.1109 - accuracy: 0.9630 - val_loss: 0.1551 - val_accuracy: 0.9628\n",
      "Epoch 6/20\n",
      "13/13 [==============================] - 0s 7ms/step - loss: 0.0851 - accuracy: 0.9630 - val_loss: 0.1492 - val_accuracy: 0.9628\n",
      "Epoch 7/20\n",
      "13/13 [==============================] - 0s 6ms/step - loss: 0.0675 - accuracy: 0.9630 - val_loss: 0.1410 - val_accuracy: 0.9628\n",
      "Epoch 8/20\n",
      "13/13 [==============================] - 0s 9ms/step - loss: 0.0601 - accuracy: 0.9630 - val_loss: 0.1464 - val_accuracy: 0.9628\n",
      "Epoch 9/20\n",
      "13/13 [==============================] - 0s 5ms/step - loss: 0.0543 - accuracy: 0.9630 - val_loss: 0.1579 - val_accuracy: 0.9628\n",
      "Epoch 10/20\n",
      "13/13 [==============================] - 0s 5ms/step - loss: 0.0496 - accuracy: 0.9630 - val_loss: 0.1663 - val_accuracy: 0.9628\n",
      "Epoch 11/20\n",
      "13/13 [==============================] - 0s 5ms/step - loss: 0.0461 - accuracy: 0.9630 - val_loss: 0.1744 - val_accuracy: 0.9628\n",
      "Epoch 12/20\n",
      "13/13 [==============================] - 0s 4ms/step - loss: 0.0429 - accuracy: 0.9630 - val_loss: 0.1844 - val_accuracy: 0.9628\n",
      "Epoch 13/20\n",
      "13/13 [==============================] - 0s 4ms/step - loss: 0.0400 - accuracy: 0.9630 - val_loss: 0.1949 - val_accuracy: 0.9628\n",
      "Epoch 14/20\n",
      "13/13 [==============================] - 0s 4ms/step - loss: 0.0377 - accuracy: 0.9630 - val_loss: 0.2051 - val_accuracy: 0.9628\n",
      "Epoch 15/20\n",
      "13/13 [==============================] - 0s 4ms/step - loss: 0.0354 - accuracy: 0.9630 - val_loss: 0.2193 - val_accuracy: 0.9628\n",
      "Epoch 16/20\n",
      "13/13 [==============================] - 0s 4ms/step - loss: 0.0335 - accuracy: 0.9630 - val_loss: 0.2355 - val_accuracy: 0.9628\n",
      "Epoch 17/20\n",
      "13/13 [==============================] - 0s 4ms/step - loss: 0.0321 - accuracy: 0.9630 - val_loss: 0.2525 - val_accuracy: 0.9628\n",
      "Epoch 18/20\n",
      "13/13 [==============================] - 0s 4ms/step - loss: 0.0310 - accuracy: 0.9630 - val_loss: 0.2671 - val_accuracy: 0.9628\n",
      "Epoch 19/20\n",
      "13/13 [==============================] - 0s 5ms/step - loss: 0.0301 - accuracy: 0.9630 - val_loss: 0.2849 - val_accuracy: 0.9628\n",
      "Epoch 20/20\n",
      "13/13 [==============================] - 0s 6ms/step - loss: 0.0293 - accuracy: 0.9630 - val_loss: 0.2982 - val_accuracy: 0.9628\n"
     ]
    }
   ],
   "source": [
    "import numpy as np \n",
    "import pandas as pd \n",
    "\n",
    "dataset = pd.read_csv('Distress.csv')\n",
    "\n",
    "X = dataset.iloc[:,:]\n",
    "y = pd.DataFrame(X.iloc[:,2])\n",
    "X.drop(columns = 'Financial Distress', inplace=True)\n",
    "\n",
    "\n",
    "from sklearn.preprocessing import LabelEncoder, OneHotEncoder\n",
    "from sklearn.compose import ColumnTransformer\n",
    "\n",
    "labelencoder_X_1 = LabelEncoder()\n",
    "labelencoder_X_2 = LabelEncoder()\n",
    "labelencoder_X_3 = LabelEncoder()\n",
    "\n",
    "Companies = np.unique(X[\"Company\"])\n",
    "C = pd.DataFrame(labelencoder_X_1.fit_transform(X[\"Company\"]))\n",
    "columnTransformer = ColumnTransformer([(\"Country\", OneHotEncoder(), [0])])\n",
    "C = pd.DataFrame(columnTransformer.fit_transform(C).toarray())\n",
    "C.columns = Companies\n",
    "\n",
    "\n",
    "Time = np.unique(X[\"Time\"])\n",
    "T = pd.DataFrame(labelencoder_X_2.fit_transform(X[\"Time\"]))\n",
    "onehotencoder = ColumnTransformer([('encoder', OneHotEncoder(), [0])])\n",
    "T = pd.DataFrame(onehotencoder.fit_transform(T).toarray())\n",
    "T.columns = Time\n",
    "\n",
    "Features = np.unique(X[\"x80\"])\n",
    "F = pd.DataFrame(labelencoder_X_3.fit_transform(X[\"x80\"]))\n",
    "onehotencoder = ColumnTransformer([('encoder', OneHotEncoder(), [0])])\n",
    "F = pd.DataFrame(onehotencoder.fit_transform(F).toarray())\n",
    "F.columns = Features\n",
    "\n",
    "P = pd.DataFrame(pd.concat((C,T),axis = 1))\n",
    "\n",
    "X = X.drop([\"Company\",\"Time\"],axis=1)\n",
    "X = pd.DataFrame(pd.concat((P,X,F),axis = 1))\n",
    "\n",
    "\n",
    "y = (y<-0.5)\n",
    "\n",
    "from sklearn.model_selection import train_test_split\n",
    "X_train, X_test, y_train, y_test = train_test_split(X, y, test_size = 0.3, random_state = 0,stratify = y)\n",
    "\n",
    "\n",
    "from sklearn.preprocessing import StandardScaler\n",
    "sc = StandardScaler()\n",
    "X_train = sc.fit_transform(X_train)\n",
    "X_test = sc.transform(X_test)\n",
    "\n",
    "import keras \n",
    "from keras.models import Sequential \n",
    "from keras.layers import Dense\n",
    "\n",
    "from keras.callbacks import Callback\n",
    "from sklearn.metrics import confusion_matrix, f1_score, precision_score, recall_score\n",
    "\n",
    "\n",
    "class Metrics(Callback):\n",
    "    def on_train_begin(self, logs={}):\n",
    "     self.val_f1s = []\n",
    "     self.val_recalls = []\n",
    "     self.val_precisions = []\n",
    "     \n",
    "    def on_epoch_end(self, epoch, logs={}):  \n",
    "     val_predict = self.model.predict_classes(self.validation_data[0])\n",
    "     val_targ = self.validation_data[1]\n",
    "     _val_f1 = f1_score(val_targ, val_predict)\n",
    "     _val_recall = recall_score(val_targ, val_predict)\n",
    "     _val_precision = precision_score(val_targ, val_predict)\n",
    "     self.val_f1s.append(_val_f1)\n",
    "     self.val_recalls.append(_val_recall)\n",
    "     self.val_precisions.append(_val_precision)\n",
    "     print(\" — val_f1: %f — val_precision: %f — val_recall %f\" %(_val_f1, _val_precision, _val_recall))\n",
    "     return\n",
    " \n",
    "metrics = Metrics()\n",
    "\n",
    "classifier = Sequential()\n",
    "\n",
    "# Adding the input layer and the first hidden layer\n",
    "classifier.add(Dense(units = 30, kernel_initializer = \"uniform\", activation = 'relu', input_shape=(556,)))\n",
    "\n",
    "# Adding the second hidden layer\n",
    "\n",
    "classifier.add(Dense(units = 30, kernel_initializer = \"uniform\", activation = 'relu'))\n",
    "\n",
    "# Adding the third hidden layer\n",
    "\n",
    "classifier.add(Dense(units = 30, kernel_initializer = \"uniform\", activation = 'relu'))\n",
    "\n",
    "# Adding the fourth hidden layer\n",
    "\n",
    "classifier.add(Dense(units = 30, kernel_initializer = \"uniform\", activation = 'relu'))\n",
    "\n",
    "# Adding the output layer\n",
    "\n",
    "classifier.add(Dense(units = 1, kernel_initializer = \"uniform\", activation = 'sigmoid'))\n",
    "\n",
    "# Compiling the ANN\n",
    "\n",
    "classifier.compile(loss='binary_crossentropy',\n",
    "          optimizer= \"adam\",\n",
    "          metrics = ['accuracy']\n",
    "          )\n",
    "\n",
    "# Fitting the ANN to the Training set\n",
    "\n",
    "#classifier.fit(x=X_train,y=y_train,batch_size = 10, epochs = 100)\n",
    "\n",
    "from sklearn.utils import class_weight\n",
    "class_weight_real = class_weight.compute_class_weight('balanced'\n",
    "                                               ,np.unique(y_train['Financial Distress'])\n",
    "                                               ,y_train['Financial Distress'])\n",
    "\n",
    "history = classifier.fit(X_train, y_train, \n",
    " validation_data=(X_test, y_test),\n",
    " epochs=20,\n",
    " batch_size=200\n",
    " )\n",
    "\n",
    "y_pred = classifier.predict_classes(X_test)\n",
    "y_pred2 = classifier.predict_classes(X_train)\n",
    "\n",
    "\n",
    "cm = confusion_matrix(y_test , y_pred)\n",
    "\n",
    "cm2 = confusion_matrix(y_train, y_pred2)\n"
   ]
  },
  {
   "cell_type": "code",
   "execution_count": 2,
   "metadata": {},
   "outputs": [
    {
     "data": {
      "image/png": "[encoded data removed]",
      "text/plain": [
       "<IPython.core.display.Image object>"
      ]
     },
     "execution_count": 2,
     "metadata": {},
     "output_type": "execute_result"
    }
   ],
   "source": [
    "from keras.utils import plot_model\n",
    "plot_model(classifier, to_file='model.png')"
   ]
  },
  {
   "cell_type": "code",
   "execution_count": 10,
   "metadata": {},
   "outputs": [],
   "source": [
    "import matplotlib.pyplot as plt\n",
    "\n",
    "acc = history.history['accuracy']\n",
    "val_acc = history.history['val_accuracy']\n",
    "loss = history.history['loss']\n",
    "val_loss = history.history['val_loss']\n",
    "epochs = range(1, len(acc) + 1)\n"
   ]
  },
  {
   "cell_type": "code",
   "execution_count": 17,
   "metadata": {},
   "outputs": [
    {
     "data": {
      "text/plain": [
       "<matplotlib.legend.Legend at 0x28895cdedd8>"
      ]
     },
     "execution_count": 17,
     "metadata": {},
     "output_type": "execute_result"
    },
    {
     "data": {
      "image/png": "[encoded data removed]",
      "text/plain": [
       "<Figure size 432x288 with 1 Axes>"
      ]
     },
     "metadata": {
      "needs_background": "light"
     },
     "output_type": "display_data"
    }
   ],
   "source": [
    "plt.plot(epochs, acc, 'bo', label='Training acc')\n",
    "plt.plot(epochs, val_acc, 'b', label='Validation acc')\n",
    "plt.title('Training and validation accuracy')\n",
    "plt.legend()"
   ]
  },
  {
   "cell_type": "code",
   "execution_count": 18,
   "metadata": {},
   "outputs": [
    {
     "data": {
      "text/plain": [
       "<matplotlib.legend.Legend at 0x28895d66f60>"
      ]
     },
     "execution_count": 18,
     "metadata": {},
     "output_type": "execute_result"
    },
    {
     "data": {
      "image/png": "[encoded data removed]",
      "text/plain": [
       "<Figure size 432x288 with 1 Axes>"
      ]
     },
     "metadata": {
      "needs_background": "light"
     },
     "output_type": "display_data"
    }
   ],
   "source": [
    "plt.plot(epochs, loss, 'bo', label='Training loss')\n",
    "plt.plot(epochs, val_loss, 'b', label='Validation loss')\n",
    "plt.title('Training and validation loss')\n",
    "plt.legend()"
   ]
  },
  {
   "cell_type": "code",
   "execution_count": null,
   "metadata": {},
   "outputs": [],
   "source": []
  }
 ],
 "metadata": {
  "kernelspec": {
   "display_name": "Python 3",
   "language": "python",
   "name": "python3"
  },
  "language_info": {
   "codemirror_mode": {
    "name": "ipython",
    "version": 3
   },
   "file_extension": ".py",
   "mimetype": "text/x-python",
   "name": "python",
   "nbconvert_exporter": "python",
   "pygments_lexer": "ipython3",
   "version": "3.7.3"
  }
 },
 "nbformat": 4,
 "nbformat_minor": 4
}
