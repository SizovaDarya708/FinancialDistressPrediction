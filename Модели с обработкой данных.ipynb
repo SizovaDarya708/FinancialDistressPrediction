{
 "cells": [
  {
   "cell_type": "code",
   "execution_count": 3,
   "metadata": {
    "_cell_guid": "b1076dfc-b9ad-4769-8c92-a6c4dae69d19",
    "_uuid": "8f2839f25d086af736a60e9eeb907d3b93b6e0e5"
   },
   "outputs": [],
   "source": [
    "import numpy as np # linear algebra\n",
    "import pandas as pd \n",
    "import seaborn as sns\n",
    "import matplotlib.pyplot as plt\n",
    "%matplotlib inline"
   ]
  },
  {
   "cell_type": "markdown",
   "metadata": {
    "_uuid": "8eea9f5dfefaf2a94983106a0939623ef1d15096"
   },
   "source": [
    "# Начальная информация\n"
   ]
  },
  {
   "cell_type": "code",
   "execution_count": 4,
   "metadata": {
    "_cell_guid": "79c7e3d0-c299-4dcb-8224-4455121ee9b0",
    "_uuid": "d629ff2d2480ee46fbb7e2d37f6b5fab8052498a"
   },
   "outputs": [],
   "source": [
    "data = pd.read_csv('Financial Distress.csv')"
   ]
  },
  {
   "cell_type": "markdown",
   "metadata": {
    "_uuid": "653ea0b82df1f146430ce6a444070f6a1d7c5d3d"
   },
   "source": [
    "## Начальный обзор данных"
   ]
  },
  {
   "cell_type": "code",
   "execution_count": 5,
   "metadata": {
    "_uuid": "d9bb163f3dc7cdf6446fc1acb9d7d78f1afca3bd",
    "collapsed": true,
    "jupyter": {
     "outputs_hidden": true
    }
   },
   "outputs": [
    {
     "name": "stdout",
     "output_type": "stream",
     "text": [
      "<class 'pandas.core.frame.DataFrame'>\n",
      "RangeIndex: 3672 entries, 0 to 3671\n",
      "Data columns (total 86 columns):\n",
      "Company               3672 non-null int64\n",
      "Time                  3672 non-null int64\n",
      "Financial Distress    3672 non-null float64\n",
      "x1                    3672 non-null float64\n",
      "x2                    3672 non-null float64\n",
      "x3                    3672 non-null float64\n",
      "x4                    3672 non-null float64\n",
      "x5                    3672 non-null float64\n",
      "x6                    3672 non-null float64\n",
      "x7                    3672 non-null float64\n",
      "x8                    3672 non-null float64\n",
      "x9                    3672 non-null float64\n",
      "x10                   3672 non-null float64\n",
      "x11                   3672 non-null float64\n",
      "x12                   3672 non-null float64\n",
      "x13                   3672 non-null float64\n",
      "x14                   3672 non-null float64\n",
      "x15                   3672 non-null float64\n",
      "x16                   3672 non-null float64\n",
      "x17                   3672 non-null float64\n",
      "x18                   3672 non-null float64\n",
      "x19                   3672 non-null float64\n",
      "x20                   3672 non-null float64\n",
      "x21                   3672 non-null float64\n",
      "x22                   3672 non-null float64\n",
      "x23                   3672 non-null float64\n",
      "x24                   3672 non-null float64\n",
      "x25                   3672 non-null float64\n",
      "x26                   3672 non-null float64\n",
      "x27                   3672 non-null float64\n",
      "x28                   3672 non-null float64\n",
      "x29                   3672 non-null float64\n",
      "x30                   3672 non-null float64\n",
      "x31                   3672 non-null float64\n",
      "x32                   3672 non-null float64\n",
      "x33                   3672 non-null float64\n",
      "x34                   3672 non-null float64\n",
      "x35                   3672 non-null float64\n",
      "x36                   3672 non-null float64\n",
      "x37                   3672 non-null float64\n",
      "x38                   3672 non-null float64\n",
      "x39                   3672 non-null float64\n",
      "x40                   3672 non-null float64\n",
      "x41                   3672 non-null float64\n",
      "x42                   3672 non-null float64\n",
      "x43                   3672 non-null float64\n",
      "x44                   3672 non-null float64\n",
      "x45                   3672 non-null float64\n",
      "x46                   3672 non-null float64\n",
      "x47                   3672 non-null float64\n",
      "x48                   3672 non-null float64\n",
      "x49                   3672 non-null float64\n",
      "x50                   3672 non-null float64\n",
      "x51                   3672 non-null float64\n",
      "x52                   3672 non-null float64\n",
      "x53                   3672 non-null float64\n",
      "x54                   3672 non-null float64\n",
      "x55                   3672 non-null float64\n",
      "x56                   3672 non-null float64\n",
      "x57                   3672 non-null float64\n",
      "x58                   3672 non-null float64\n",
      "x59                   3672 non-null float64\n",
      "x60                   3672 non-null float64\n",
      "x61                   3672 non-null float64\n",
      "x62                   3672 non-null float64\n",
      "x63                   3672 non-null float64\n",
      "x64                   3672 non-null float64\n",
      "x65                   3672 non-null float64\n",
      "x66                   3672 non-null float64\n",
      "x67                   3672 non-null float64\n",
      "x68                   3672 non-null float64\n",
      "x69                   3672 non-null float64\n",
      "x70                   3672 non-null float64\n",
      "x71                   3672 non-null float64\n",
      "x72                   3672 non-null float64\n",
      "x73                   3672 non-null float64\n",
      "x74                   3672 non-null float64\n",
      "x75                   3672 non-null float64\n",
      "x76                   3672 non-null float64\n",
      "x77                   3672 non-null float64\n",
      "x78                   3672 non-null float64\n",
      "x79                   3672 non-null float64\n",
      "x80                   3672 non-null int64\n",
      "x81                   3672 non-null float64\n",
      "x82                   3672 non-null int64\n",
      "x83                   3672 non-null int64\n",
      "dtypes: float64(81), int64(5)\n",
      "memory usage: 2.4 MB\n"
     ]
    }
   ],
   "source": [
    "data.info()"
   ]
  },
  {
   "cell_type": "markdown",
   "metadata": {
    "_uuid": "5d4df31b5a1edf2627ceab71fb5f421a6805b87d"
   },
   "source": [
    "Пропусков нет.\n",
    "Посмотрим информацию по столбцам."
   ]
  },
  {
   "cell_type": "code",
   "execution_count": 5,
   "metadata": {
    "_uuid": "da0ed891b1d2b39aa5900d05d9f97e6a4c84373b"
   },
   "outputs": [
    {
     "data": {
      "text/html": [
       "<div>\n",
       "<style scoped>\n",
       "    .dataframe tbody tr th:only-of-type {\n",
       "        vertical-align: middle;\n",
       "    }\n",
       "\n",
       "    .dataframe tbody tr th {\n",
       "        vertical-align: top;\n",
       "    }\n",
       "\n",
       "    .dataframe thead th {\n",
       "        text-align: right;\n",
       "    }\n",
       "</style>\n",
       "<table border=\"1\" class=\"dataframe\">\n",
       "  <thead>\n",
       "    <tr style=\"text-align: right;\">\n",
       "      <th></th>\n",
       "      <th>Company</th>\n",
       "      <th>Time</th>\n",
       "      <th>Financial Distress</th>\n",
       "      <th>x1</th>\n",
       "      <th>x2</th>\n",
       "      <th>x3</th>\n",
       "      <th>x4</th>\n",
       "      <th>x5</th>\n",
       "      <th>x6</th>\n",
       "      <th>x7</th>\n",
       "      <th>...</th>\n",
       "      <th>x74</th>\n",
       "      <th>x75</th>\n",
       "      <th>x76</th>\n",
       "      <th>x77</th>\n",
       "      <th>x78</th>\n",
       "      <th>x79</th>\n",
       "      <th>x80</th>\n",
       "      <th>x81</th>\n",
       "      <th>x82</th>\n",
       "      <th>x83</th>\n",
       "    </tr>\n",
       "  </thead>\n",
       "  <tbody>\n",
       "    <tr>\n",
       "      <th>count</th>\n",
       "      <td>3672.000000</td>\n",
       "      <td>3672.000000</td>\n",
       "      <td>3672.000000</td>\n",
       "      <td>3672.000000</td>\n",
       "      <td>3672.000000</td>\n",
       "      <td>3672.000000</td>\n",
       "      <td>3.672000e+03</td>\n",
       "      <td>3672.000000</td>\n",
       "      <td>3672.000000</td>\n",
       "      <td>3672.000000</td>\n",
       "      <td>...</td>\n",
       "      <td>3672.000000</td>\n",
       "      <td>3672.000000</td>\n",
       "      <td>3672.000000</td>\n",
       "      <td>3672.000000</td>\n",
       "      <td>3672.000000</td>\n",
       "      <td>3672.000000</td>\n",
       "      <td>3672.000000</td>\n",
       "      <td>3672.000000</td>\n",
       "      <td>3672.000000</td>\n",
       "      <td>3672.000000</td>\n",
       "    </tr>\n",
       "    <tr>\n",
       "      <th>mean</th>\n",
       "      <td>182.084423</td>\n",
       "      <td>7.528322</td>\n",
       "      <td>1.040257</td>\n",
       "      <td>1.387820</td>\n",
       "      <td>0.129706</td>\n",
       "      <td>0.615769</td>\n",
       "      <td>8.681599e-01</td>\n",
       "      <td>0.154949</td>\n",
       "      <td>0.106717</td>\n",
       "      <td>0.784031</td>\n",
       "      <td>...</td>\n",
       "      <td>86.839822</td>\n",
       "      <td>91.920506</td>\n",
       "      <td>89.115908</td>\n",
       "      <td>17.780855</td>\n",
       "      <td>15.198708</td>\n",
       "      <td>-2.664305</td>\n",
       "      <td>19.714597</td>\n",
       "      <td>1.100488</td>\n",
       "      <td>13.122277</td>\n",
       "      <td>33.044935</td>\n",
       "    </tr>\n",
       "    <tr>\n",
       "      <th>std</th>\n",
       "      <td>117.024636</td>\n",
       "      <td>4.064016</td>\n",
       "      <td>2.652227</td>\n",
       "      <td>1.452926</td>\n",
       "      <td>0.120013</td>\n",
       "      <td>0.177904</td>\n",
       "      <td>5.719519e-01</td>\n",
       "      <td>0.124904</td>\n",
       "      <td>0.210555</td>\n",
       "      <td>1.033606</td>\n",
       "      <td>...</td>\n",
       "      <td>16.706209</td>\n",
       "      <td>64.656504</td>\n",
       "      <td>64.349382</td>\n",
       "      <td>2.040152</td>\n",
       "      <td>2.828648</td>\n",
       "      <td>8.192663</td>\n",
       "      <td>7.508588</td>\n",
       "      <td>2.666733</td>\n",
       "      <td>9.465907</td>\n",
       "      <td>13.714563</td>\n",
       "    </tr>\n",
       "    <tr>\n",
       "      <th>min</th>\n",
       "      <td>1.000000</td>\n",
       "      <td>1.000000</td>\n",
       "      <td>-8.631700</td>\n",
       "      <td>0.075170</td>\n",
       "      <td>-0.258080</td>\n",
       "      <td>0.016135</td>\n",
       "      <td>5.350000e-07</td>\n",
       "      <td>-0.269790</td>\n",
       "      <td>-0.627750</td>\n",
       "      <td>0.035160</td>\n",
       "      <td>...</td>\n",
       "      <td>54.806000</td>\n",
       "      <td>24.318000</td>\n",
       "      <td>23.776000</td>\n",
       "      <td>15.250000</td>\n",
       "      <td>12.000000</td>\n",
       "      <td>-20.200000</td>\n",
       "      <td>1.000000</td>\n",
       "      <td>-0.499220</td>\n",
       "      <td>1.000000</td>\n",
       "      <td>2.000000</td>\n",
       "    </tr>\n",
       "    <tr>\n",
       "      <th>25%</th>\n",
       "      <td>80.000000</td>\n",
       "      <td>4.000000</td>\n",
       "      <td>0.172275</td>\n",
       "      <td>0.952145</td>\n",
       "      <td>0.048701</td>\n",
       "      <td>0.501888</td>\n",
       "      <td>5.525575e-01</td>\n",
       "      <td>0.070001</td>\n",
       "      <td>-0.027754</td>\n",
       "      <td>0.436003</td>\n",
       "      <td>...</td>\n",
       "      <td>79.951000</td>\n",
       "      <td>39.800000</td>\n",
       "      <td>38.377000</td>\n",
       "      <td>16.000000</td>\n",
       "      <td>13.000000</td>\n",
       "      <td>-7.000000</td>\n",
       "      <td>14.000000</td>\n",
       "      <td>0.189912</td>\n",
       "      <td>6.000000</td>\n",
       "      <td>21.000000</td>\n",
       "    </tr>\n",
       "    <tr>\n",
       "      <th>50%</th>\n",
       "      <td>168.000000</td>\n",
       "      <td>7.000000</td>\n",
       "      <td>0.583805</td>\n",
       "      <td>1.183600</td>\n",
       "      <td>0.107530</td>\n",
       "      <td>0.638690</td>\n",
       "      <td>7.752450e-01</td>\n",
       "      <td>0.131830</td>\n",
       "      <td>0.104325</td>\n",
       "      <td>0.641875</td>\n",
       "      <td>...</td>\n",
       "      <td>90.000000</td>\n",
       "      <td>66.120000</td>\n",
       "      <td>59.471000</td>\n",
       "      <td>17.000000</td>\n",
       "      <td>14.500000</td>\n",
       "      <td>0.200000</td>\n",
       "      <td>20.000000</td>\n",
       "      <td>0.594765</td>\n",
       "      <td>11.000000</td>\n",
       "      <td>34.000000</td>\n",
       "    </tr>\n",
       "    <tr>\n",
       "      <th>75%</th>\n",
       "      <td>264.250000</td>\n",
       "      <td>11.000000</td>\n",
       "      <td>1.351750</td>\n",
       "      <td>1.506475</td>\n",
       "      <td>0.188685</td>\n",
       "      <td>0.749425</td>\n",
       "      <td>1.039000e+00</td>\n",
       "      <td>0.219570</td>\n",
       "      <td>0.231230</td>\n",
       "      <td>0.896773</td>\n",
       "      <td>...</td>\n",
       "      <td>93.883000</td>\n",
       "      <td>130.500000</td>\n",
       "      <td>132.400000</td>\n",
       "      <td>20.000000</td>\n",
       "      <td>16.000000</td>\n",
       "      <td>2.100000</td>\n",
       "      <td>26.000000</td>\n",
       "      <td>1.355050</td>\n",
       "      <td>17.000000</td>\n",
       "      <td>44.000000</td>\n",
       "    </tr>\n",
       "    <tr>\n",
       "      <th>max</th>\n",
       "      <td>422.000000</td>\n",
       "      <td>14.000000</td>\n",
       "      <td>128.400000</td>\n",
       "      <td>51.954000</td>\n",
       "      <td>0.749410</td>\n",
       "      <td>0.967900</td>\n",
       "      <td>6.835600e+00</td>\n",
       "      <td>0.858540</td>\n",
       "      <td>0.929550</td>\n",
       "      <td>38.836000</td>\n",
       "      <td>...</td>\n",
       "      <td>120.870000</td>\n",
       "      <td>227.500000</td>\n",
       "      <td>214.500000</td>\n",
       "      <td>22.000000</td>\n",
       "      <td>22.000000</td>\n",
       "      <td>8.600000</td>\n",
       "      <td>37.000000</td>\n",
       "      <td>128.400000</td>\n",
       "      <td>49.000000</td>\n",
       "      <td>74.000000</td>\n",
       "    </tr>\n",
       "  </tbody>\n",
       "</table>\n",
       "<p>8 rows × 86 columns</p>\n",
       "</div>"
      ],
      "text/plain": [
       "           Company         Time  Financial Distress           x1           x2  \\\n",
       "count  3672.000000  3672.000000         3672.000000  3672.000000  3672.000000   \n",
       "mean    182.084423     7.528322            1.040257     1.387820     0.129706   \n",
       "std     117.024636     4.064016            2.652227     1.452926     0.120013   \n",
       "min       1.000000     1.000000           -8.631700     0.075170    -0.258080   \n",
       "25%      80.000000     4.000000            0.172275     0.952145     0.048701   \n",
       "50%     168.000000     7.000000            0.583805     1.183600     0.107530   \n",
       "75%     264.250000    11.000000            1.351750     1.506475     0.188685   \n",
       "max     422.000000    14.000000          128.400000    51.954000     0.749410   \n",
       "\n",
       "                x3            x4           x5           x6           x7  ...  \\\n",
       "count  3672.000000  3.672000e+03  3672.000000  3672.000000  3672.000000  ...   \n",
       "mean      0.615769  8.681599e-01     0.154949     0.106717     0.784031  ...   \n",
       "std       0.177904  5.719519e-01     0.124904     0.210555     1.033606  ...   \n",
       "min       0.016135  5.350000e-07    -0.269790    -0.627750     0.035160  ...   \n",
       "25%       0.501888  5.525575e-01     0.070001    -0.027754     0.436003  ...   \n",
       "50%       0.638690  7.752450e-01     0.131830     0.104325     0.641875  ...   \n",
       "75%       0.749425  1.039000e+00     0.219570     0.231230     0.896773  ...   \n",
       "max       0.967900  6.835600e+00     0.858540     0.929550    38.836000  ...   \n",
       "\n",
       "               x74          x75          x76          x77          x78  \\\n",
       "count  3672.000000  3672.000000  3672.000000  3672.000000  3672.000000   \n",
       "mean     86.839822    91.920506    89.115908    17.780855    15.198708   \n",
       "std      16.706209    64.656504    64.349382     2.040152     2.828648   \n",
       "min      54.806000    24.318000    23.776000    15.250000    12.000000   \n",
       "25%      79.951000    39.800000    38.377000    16.000000    13.000000   \n",
       "50%      90.000000    66.120000    59.471000    17.000000    14.500000   \n",
       "75%      93.883000   130.500000   132.400000    20.000000    16.000000   \n",
       "max     120.870000   227.500000   214.500000    22.000000    22.000000   \n",
       "\n",
       "               x79          x80          x81          x82          x83  \n",
       "count  3672.000000  3672.000000  3672.000000  3672.000000  3672.000000  \n",
       "mean     -2.664305    19.714597     1.100488    13.122277    33.044935  \n",
       "std       8.192663     7.508588     2.666733     9.465907    13.714563  \n",
       "min     -20.200000     1.000000    -0.499220     1.000000     2.000000  \n",
       "25%      -7.000000    14.000000     0.189912     6.000000    21.000000  \n",
       "50%       0.200000    20.000000     0.594765    11.000000    34.000000  \n",
       "75%       2.100000    26.000000     1.355050    17.000000    44.000000  \n",
       "max       8.600000    37.000000   128.400000    49.000000    74.000000  \n",
       "\n",
       "[8 rows x 86 columns]"
      ]
     },
     "execution_count": 5,
     "metadata": {},
     "output_type": "execute_result"
    }
   ],
   "source": [
    "data.describe()"
   ]
  },
  {
   "cell_type": "code",
   "execution_count": 6,
   "metadata": {
    "_uuid": "2e67a13adf7934f36b9e831c38070523608beb6b"
   },
   "outputs": [
    {
     "data": {
      "text/html": [
       "<div>\n",
       "<style scoped>\n",
       "    .dataframe tbody tr th:only-of-type {\n",
       "        vertical-align: middle;\n",
       "    }\n",
       "\n",
       "    .dataframe tbody tr th {\n",
       "        vertical-align: top;\n",
       "    }\n",
       "\n",
       "    .dataframe thead th {\n",
       "        text-align: right;\n",
       "    }\n",
       "</style>\n",
       "<table border=\"1\" class=\"dataframe\">\n",
       "  <thead>\n",
       "    <tr style=\"text-align: right;\">\n",
       "      <th></th>\n",
       "      <th>Company</th>\n",
       "      <th>Time</th>\n",
       "      <th>Financial Distress</th>\n",
       "      <th>x1</th>\n",
       "      <th>x2</th>\n",
       "      <th>x3</th>\n",
       "      <th>x4</th>\n",
       "      <th>x5</th>\n",
       "      <th>x6</th>\n",
       "      <th>x7</th>\n",
       "      <th>...</th>\n",
       "      <th>x74</th>\n",
       "      <th>x75</th>\n",
       "      <th>x76</th>\n",
       "      <th>x77</th>\n",
       "      <th>x78</th>\n",
       "      <th>x79</th>\n",
       "      <th>x80</th>\n",
       "      <th>x81</th>\n",
       "      <th>x82</th>\n",
       "      <th>x83</th>\n",
       "    </tr>\n",
       "  </thead>\n",
       "  <tbody>\n",
       "    <tr>\n",
       "      <th>0</th>\n",
       "      <td>1</td>\n",
       "      <td>1</td>\n",
       "      <td>0.010636</td>\n",
       "      <td>1.2810</td>\n",
       "      <td>0.022934</td>\n",
       "      <td>0.87454</td>\n",
       "      <td>1.21640</td>\n",
       "      <td>0.060940</td>\n",
       "      <td>0.188270</td>\n",
       "      <td>0.52510</td>\n",
       "      <td>...</td>\n",
       "      <td>85.437</td>\n",
       "      <td>27.07</td>\n",
       "      <td>26.102</td>\n",
       "      <td>16.000</td>\n",
       "      <td>16.0</td>\n",
       "      <td>0.2</td>\n",
       "      <td>22</td>\n",
       "      <td>0.060390</td>\n",
       "      <td>30</td>\n",
       "      <td>49</td>\n",
       "    </tr>\n",
       "    <tr>\n",
       "      <th>1</th>\n",
       "      <td>1</td>\n",
       "      <td>2</td>\n",
       "      <td>-0.455970</td>\n",
       "      <td>1.2700</td>\n",
       "      <td>0.006454</td>\n",
       "      <td>0.82067</td>\n",
       "      <td>1.00490</td>\n",
       "      <td>-0.014080</td>\n",
       "      <td>0.181040</td>\n",
       "      <td>0.62288</td>\n",
       "      <td>...</td>\n",
       "      <td>107.090</td>\n",
       "      <td>31.31</td>\n",
       "      <td>30.194</td>\n",
       "      <td>17.000</td>\n",
       "      <td>16.0</td>\n",
       "      <td>0.4</td>\n",
       "      <td>22</td>\n",
       "      <td>0.010636</td>\n",
       "      <td>31</td>\n",
       "      <td>50</td>\n",
       "    </tr>\n",
       "    <tr>\n",
       "      <th>2</th>\n",
       "      <td>1</td>\n",
       "      <td>3</td>\n",
       "      <td>-0.325390</td>\n",
       "      <td>1.0529</td>\n",
       "      <td>-0.059379</td>\n",
       "      <td>0.92242</td>\n",
       "      <td>0.72926</td>\n",
       "      <td>0.020476</td>\n",
       "      <td>0.044865</td>\n",
       "      <td>0.43292</td>\n",
       "      <td>...</td>\n",
       "      <td>120.870</td>\n",
       "      <td>36.07</td>\n",
       "      <td>35.273</td>\n",
       "      <td>17.000</td>\n",
       "      <td>15.0</td>\n",
       "      <td>-0.2</td>\n",
       "      <td>22</td>\n",
       "      <td>-0.455970</td>\n",
       "      <td>32</td>\n",
       "      <td>51</td>\n",
       "    </tr>\n",
       "    <tr>\n",
       "      <th>3</th>\n",
       "      <td>1</td>\n",
       "      <td>4</td>\n",
       "      <td>-0.566570</td>\n",
       "      <td>1.1131</td>\n",
       "      <td>-0.015229</td>\n",
       "      <td>0.85888</td>\n",
       "      <td>0.80974</td>\n",
       "      <td>0.076037</td>\n",
       "      <td>0.091033</td>\n",
       "      <td>0.67546</td>\n",
       "      <td>...</td>\n",
       "      <td>54.806</td>\n",
       "      <td>39.80</td>\n",
       "      <td>38.377</td>\n",
       "      <td>17.167</td>\n",
       "      <td>16.0</td>\n",
       "      <td>5.6</td>\n",
       "      <td>22</td>\n",
       "      <td>-0.325390</td>\n",
       "      <td>33</td>\n",
       "      <td>52</td>\n",
       "    </tr>\n",
       "    <tr>\n",
       "      <th>4</th>\n",
       "      <td>2</td>\n",
       "      <td>1</td>\n",
       "      <td>1.357300</td>\n",
       "      <td>1.0623</td>\n",
       "      <td>0.107020</td>\n",
       "      <td>0.81460</td>\n",
       "      <td>0.83593</td>\n",
       "      <td>0.199960</td>\n",
       "      <td>0.047800</td>\n",
       "      <td>0.74200</td>\n",
       "      <td>...</td>\n",
       "      <td>85.437</td>\n",
       "      <td>27.07</td>\n",
       "      <td>26.102</td>\n",
       "      <td>16.000</td>\n",
       "      <td>16.0</td>\n",
       "      <td>0.2</td>\n",
       "      <td>29</td>\n",
       "      <td>1.251000</td>\n",
       "      <td>7</td>\n",
       "      <td>27</td>\n",
       "    </tr>\n",
       "  </tbody>\n",
       "</table>\n",
       "<p>5 rows × 86 columns</p>\n",
       "</div>"
      ],
      "text/plain": [
       "   Company  Time  Financial Distress      x1        x2       x3       x4  \\\n",
       "0        1     1            0.010636  1.2810  0.022934  0.87454  1.21640   \n",
       "1        1     2           -0.455970  1.2700  0.006454  0.82067  1.00490   \n",
       "2        1     3           -0.325390  1.0529 -0.059379  0.92242  0.72926   \n",
       "3        1     4           -0.566570  1.1131 -0.015229  0.85888  0.80974   \n",
       "4        2     1            1.357300  1.0623  0.107020  0.81460  0.83593   \n",
       "\n",
       "         x5        x6       x7  ...      x74    x75     x76     x77   x78  \\\n",
       "0  0.060940  0.188270  0.52510  ...   85.437  27.07  26.102  16.000  16.0   \n",
       "1 -0.014080  0.181040  0.62288  ...  107.090  31.31  30.194  17.000  16.0   \n",
       "2  0.020476  0.044865  0.43292  ...  120.870  36.07  35.273  17.000  15.0   \n",
       "3  0.076037  0.091033  0.67546  ...   54.806  39.80  38.377  17.167  16.0   \n",
       "4  0.199960  0.047800  0.74200  ...   85.437  27.07  26.102  16.000  16.0   \n",
       "\n",
       "   x79  x80       x81  x82  x83  \n",
       "0  0.2   22  0.060390   30   49  \n",
       "1  0.4   22  0.010636   31   50  \n",
       "2 -0.2   22 -0.455970   32   51  \n",
       "3  5.6   22 -0.325390   33   52  \n",
       "4  0.2   29  1.251000    7   27  \n",
       "\n",
       "[5 rows x 86 columns]"
      ]
     },
     "execution_count": 6,
     "metadata": {},
     "output_type": "execute_result"
    }
   ],
   "source": [
    "data.head(5)"
   ]
  },
  {
   "cell_type": "code",
   "execution_count": 7,
   "metadata": {
    "_uuid": "9b37b0a6edf39ec0bb5ddc707ef3a568d3f3917c"
   },
   "outputs": [
    {
     "data": {
      "text/plain": [
       "(3672, 86)"
      ]
     },
     "execution_count": 7,
     "metadata": {},
     "output_type": "execute_result"
    }
   ],
   "source": [
    "data.shape"
   ]
  },
  {
   "cell_type": "markdown",
   "metadata": {
    "_uuid": "402453895785a5bb48c60bde3593304b9ef77bb8"
   },
   "source": [
    "## Один из признаков является категориальным\n",
    "Посмотрим на него подбробнее"
   ]
  },
  {
   "cell_type": "code",
   "execution_count": 8,
   "metadata": {
    "_uuid": "161fec4a1a256fab21fa51150c99ce643104ee13"
   },
   "outputs": [
    {
     "name": "stdout",
     "output_type": "stream",
     "text": [
      "[22 29 25 12 23  9 28 14 11 18 26 21  3 20 15  7 24 19 27  1  4 17  6  8\n",
      "  5  2 16 13 10 30 31 32 34 35 36 33 37]\n",
      "37\n"
     ]
    }
   ],
   "source": [
    "categories = data['x80'].unique()\n",
    "print(categories)\n",
    "print(len(categories))"
   ]
  },
  {
   "cell_type": "markdown",
   "metadata": {
    "_uuid": "04f51578da977d1ca5b7099b1cfd964132e06164"
   },
   "source": [
    "## Посмотрим как меняются признаки объектов (компаний) с течением времени"
   ]
  },
  {
   "cell_type": "markdown",
   "metadata": {
    "_uuid": "cc6c44f571dccb81a8845b2e7e80ee42c4f28853"
   },
   "source": [
    "g = sns.PairGrid(data, x_vars='Time', y_vars=list(data.columns[3:]), hue='Company', size=5)\n",
    "g = g.map(plt.scatter, alpha=.3)"
   ]
  },
  {
   "cell_type": "markdown",
   "metadata": {
    "_uuid": "846965c16b93337d914e0895822db4b3f416bb51"
   },
   "source": [
    "## Посмотрим распределение периодов сбора данных"
   ]
  },
  {
   "cell_type": "code",
   "execution_count": 6,
   "metadata": {
    "_uuid": "e134a38845bb2b7607ca7eaff6918014ee31fd38"
   },
   "outputs": [
    {
     "data": {
      "text/plain": [
       "<matplotlib.axes._subplots.AxesSubplot at 0x1fd41844860>"
      ]
     },
     "execution_count": 6,
     "metadata": {},
     "output_type": "execute_result"
    },
    {
     "data": {
      "image/png": "[encoded data removed]",
      "text/plain": [
       "<Figure size 432x288 with 1 Axes>"
      ]
     },
     "metadata": {
      "needs_background": "light"
     },
     "output_type": "display_data"
    }
   ],
   "source": [
    "sns.distplot(data['Time'])"
   ]
  },
  {
   "cell_type": "markdown",
   "metadata": {
    "_uuid": "0ec6b3de4866c464e39df18141ecedc8672c2293"
   },
   "source": [
    "## Построим матрицу корелляции признаков"
   ]
  },
  {
   "cell_type": "code",
   "execution_count": 7,
   "metadata": {
    "_uuid": "7e58d1ebf53b0f28b1e2658800a2830252495d10"
   },
   "outputs": [
    {
     "data": {
      "text/html": [
       "<div>\n",
       "<style scoped>\n",
       "    .dataframe tbody tr th:only-of-type {\n",
       "        vertical-align: middle;\n",
       "    }\n",
       "\n",
       "    .dataframe tbody tr th {\n",
       "        vertical-align: top;\n",
       "    }\n",
       "\n",
       "    .dataframe thead th {\n",
       "        text-align: right;\n",
       "    }\n",
       "</style>\n",
       "<table border=\"1\" class=\"dataframe\">\n",
       "  <thead>\n",
       "    <tr style=\"text-align: right;\">\n",
       "      <th></th>\n",
       "      <th>Financial Distress</th>\n",
       "      <th>x81</th>\n",
       "      <th>x48</th>\n",
       "      <th>x25</th>\n",
       "      <th>x10</th>\n",
       "      <th>x5</th>\n",
       "      <th>x2</th>\n",
       "      <th>x53</th>\n",
       "      <th>x9</th>\n",
       "      <th>x51</th>\n",
       "      <th>...</th>\n",
       "      <th>x14</th>\n",
       "      <th>x3</th>\n",
       "      <th>x71</th>\n",
       "      <th>x79</th>\n",
       "      <th>x73</th>\n",
       "      <th>x62</th>\n",
       "      <th>x63</th>\n",
       "      <th>x50</th>\n",
       "      <th>x61</th>\n",
       "      <th>x64</th>\n",
       "    </tr>\n",
       "  </thead>\n",
       "  <tbody>\n",
       "    <tr>\n",
       "      <th>Time</th>\n",
       "      <td>0.144200</td>\n",
       "      <td>0.170792</td>\n",
       "      <td>0.125236</td>\n",
       "      <td>0.047027</td>\n",
       "      <td>0.337162</td>\n",
       "      <td>-0.005669</td>\n",
       "      <td>-0.001065</td>\n",
       "      <td>-0.004674</td>\n",
       "      <td>-0.192999</td>\n",
       "      <td>0.405762</td>\n",
       "      <td>...</td>\n",
       "      <td>-0.130468</td>\n",
       "      <td>-0.259707</td>\n",
       "      <td>-0.412424</td>\n",
       "      <td>-0.196859</td>\n",
       "      <td>-0.648888</td>\n",
       "      <td>-0.748330</td>\n",
       "      <td>-0.191402</td>\n",
       "      <td>-0.017868</td>\n",
       "      <td>-0.659081</td>\n",
       "      <td>-0.884338</td>\n",
       "    </tr>\n",
       "    <tr>\n",
       "      <th>Financial Distress</th>\n",
       "      <td>1.000000</td>\n",
       "      <td>0.442916</td>\n",
       "      <td>0.435318</td>\n",
       "      <td>0.376786</td>\n",
       "      <td>0.338298</td>\n",
       "      <td>0.274435</td>\n",
       "      <td>0.272978</td>\n",
       "      <td>0.245600</td>\n",
       "      <td>0.219091</td>\n",
       "      <td>0.191357</td>\n",
       "      <td>...</td>\n",
       "      <td>-0.078073</td>\n",
       "      <td>-0.089264</td>\n",
       "      <td>-0.089890</td>\n",
       "      <td>-0.116661</td>\n",
       "      <td>-0.134600</td>\n",
       "      <td>-0.143793</td>\n",
       "      <td>-0.150362</td>\n",
       "      <td>-0.155569</td>\n",
       "      <td>-0.157380</td>\n",
       "      <td>-0.173126</td>\n",
       "    </tr>\n",
       "    <tr>\n",
       "      <th>x1</th>\n",
       "      <td>0.030928</td>\n",
       "      <td>0.053595</td>\n",
       "      <td>0.039251</td>\n",
       "      <td>0.043398</td>\n",
       "      <td>0.296670</td>\n",
       "      <td>0.109543</td>\n",
       "      <td>0.208851</td>\n",
       "      <td>0.101277</td>\n",
       "      <td>-0.000506</td>\n",
       "      <td>-0.067987</td>\n",
       "      <td>...</td>\n",
       "      <td>-0.223763</td>\n",
       "      <td>-0.440321</td>\n",
       "      <td>-0.020399</td>\n",
       "      <td>-0.045919</td>\n",
       "      <td>-0.040829</td>\n",
       "      <td>-0.078965</td>\n",
       "      <td>-0.014623</td>\n",
       "      <td>-0.163607</td>\n",
       "      <td>-0.067027</td>\n",
       "      <td>-0.107117</td>\n",
       "    </tr>\n",
       "    <tr>\n",
       "      <th>x2</th>\n",
       "      <td>0.272978</td>\n",
       "      <td>0.281884</td>\n",
       "      <td>0.249237</td>\n",
       "      <td>0.483282</td>\n",
       "      <td>0.735503</td>\n",
       "      <td>0.892480</td>\n",
       "      <td>1.000000</td>\n",
       "      <td>0.798938</td>\n",
       "      <td>0.729858</td>\n",
       "      <td>0.197861</td>\n",
       "      <td>...</td>\n",
       "      <td>-0.397435</td>\n",
       "      <td>-0.504509</td>\n",
       "      <td>0.032094</td>\n",
       "      <td>-0.104102</td>\n",
       "      <td>0.052388</td>\n",
       "      <td>-0.001604</td>\n",
       "      <td>-0.069930</td>\n",
       "      <td>-0.638515</td>\n",
       "      <td>-0.023174</td>\n",
       "      <td>-0.026297</td>\n",
       "    </tr>\n",
       "    <tr>\n",
       "      <th>x3</th>\n",
       "      <td>-0.089264</td>\n",
       "      <td>-0.111055</td>\n",
       "      <td>-0.092989</td>\n",
       "      <td>-0.083522</td>\n",
       "      <td>-0.661908</td>\n",
       "      <td>-0.356252</td>\n",
       "      <td>-0.504509</td>\n",
       "      <td>-0.296368</td>\n",
       "      <td>-0.030976</td>\n",
       "      <td>0.019216</td>\n",
       "      <td>...</td>\n",
       "      <td>0.759448</td>\n",
       "      <td>1.000000</td>\n",
       "      <td>0.111871</td>\n",
       "      <td>0.102163</td>\n",
       "      <td>0.184080</td>\n",
       "      <td>0.183966</td>\n",
       "      <td>0.075016</td>\n",
       "      <td>0.415127</td>\n",
       "      <td>0.163390</td>\n",
       "      <td>0.222393</td>\n",
       "    </tr>\n",
       "    <tr>\n",
       "      <th>x4</th>\n",
       "      <td>0.116837</td>\n",
       "      <td>0.203058</td>\n",
       "      <td>0.201250</td>\n",
       "      <td>0.225023</td>\n",
       "      <td>0.064635</td>\n",
       "      <td>0.194218</td>\n",
       "      <td>0.114046</td>\n",
       "      <td>0.315602</td>\n",
       "      <td>0.135739</td>\n",
       "      <td>0.320267</td>\n",
       "      <td>...</td>\n",
       "      <td>0.035727</td>\n",
       "      <td>0.094481</td>\n",
       "      <td>0.000471</td>\n",
       "      <td>-0.044051</td>\n",
       "      <td>-0.003886</td>\n",
       "      <td>-0.047514</td>\n",
       "      <td>-0.029564</td>\n",
       "      <td>0.305579</td>\n",
       "      <td>-0.047630</td>\n",
       "      <td>-0.059740</td>\n",
       "    </tr>\n",
       "    <tr>\n",
       "      <th>x5</th>\n",
       "      <td>0.274435</td>\n",
       "      <td>0.266739</td>\n",
       "      <td>0.237494</td>\n",
       "      <td>0.461038</td>\n",
       "      <td>0.645829</td>\n",
       "      <td>1.000000</td>\n",
       "      <td>0.892480</td>\n",
       "      <td>0.906145</td>\n",
       "      <td>0.687468</td>\n",
       "      <td>0.236526</td>\n",
       "      <td>...</td>\n",
       "      <td>-0.297055</td>\n",
       "      <td>-0.356252</td>\n",
       "      <td>0.019983</td>\n",
       "      <td>-0.120217</td>\n",
       "      <td>0.035566</td>\n",
       "      <td>-0.008896</td>\n",
       "      <td>-0.094203</td>\n",
       "      <td>-0.624459</td>\n",
       "      <td>-0.036667</td>\n",
       "      <td>-0.025415</td>\n",
       "    </tr>\n",
       "    <tr>\n",
       "      <th>x6</th>\n",
       "      <td>0.077260</td>\n",
       "      <td>0.101647</td>\n",
       "      <td>0.083978</td>\n",
       "      <td>0.076557</td>\n",
       "      <td>0.441091</td>\n",
       "      <td>0.236113</td>\n",
       "      <td>0.298078</td>\n",
       "      <td>0.255941</td>\n",
       "      <td>0.005126</td>\n",
       "      <td>-0.096300</td>\n",
       "      <td>...</td>\n",
       "      <td>-0.435001</td>\n",
       "      <td>-0.593620</td>\n",
       "      <td>-0.051343</td>\n",
       "      <td>-0.084758</td>\n",
       "      <td>-0.075941</td>\n",
       "      <td>-0.113815</td>\n",
       "      <td>-0.045330</td>\n",
       "      <td>-0.188840</td>\n",
       "      <td>-0.101086</td>\n",
       "      <td>-0.136648</td>\n",
       "    </tr>\n",
       "    <tr>\n",
       "      <th>x7</th>\n",
       "      <td>0.042412</td>\n",
       "      <td>0.064812</td>\n",
       "      <td>0.050854</td>\n",
       "      <td>0.061415</td>\n",
       "      <td>0.290069</td>\n",
       "      <td>0.110410</td>\n",
       "      <td>0.214098</td>\n",
       "      <td>0.092646</td>\n",
       "      <td>0.019448</td>\n",
       "      <td>-0.037694</td>\n",
       "      <td>...</td>\n",
       "      <td>-0.191658</td>\n",
       "      <td>-0.398730</td>\n",
       "      <td>-0.036066</td>\n",
       "      <td>-0.017951</td>\n",
       "      <td>-0.057026</td>\n",
       "      <td>-0.085511</td>\n",
       "      <td>-0.002137</td>\n",
       "      <td>-0.172219</td>\n",
       "      <td>-0.067887</td>\n",
       "      <td>-0.111500</td>\n",
       "    </tr>\n",
       "    <tr>\n",
       "      <th>x8</th>\n",
       "      <td>-0.006382</td>\n",
       "      <td>-0.000214</td>\n",
       "      <td>-0.001069</td>\n",
       "      <td>0.001520</td>\n",
       "      <td>0.007163</td>\n",
       "      <td>-0.011965</td>\n",
       "      <td>0.014020</td>\n",
       "      <td>-0.014444</td>\n",
       "      <td>0.028458</td>\n",
       "      <td>-0.066608</td>\n",
       "      <td>...</td>\n",
       "      <td>-0.006725</td>\n",
       "      <td>-0.006290</td>\n",
       "      <td>-0.007050</td>\n",
       "      <td>0.036357</td>\n",
       "      <td>-0.000466</td>\n",
       "      <td>0.002513</td>\n",
       "      <td>0.015077</td>\n",
       "      <td>0.014445</td>\n",
       "      <td>0.009484</td>\n",
       "      <td>0.009862</td>\n",
       "    </tr>\n",
       "  </tbody>\n",
       "</table>\n",
       "<p>10 rows × 85 columns</p>\n",
       "</div>"
      ],
      "text/plain": [
       "                    Financial Distress       x81       x48       x25  \\\n",
       "Time                          0.144200  0.170792  0.125236  0.047027   \n",
       "Financial Distress            1.000000  0.442916  0.435318  0.376786   \n",
       "x1                            0.030928  0.053595  0.039251  0.043398   \n",
       "x2                            0.272978  0.281884  0.249237  0.483282   \n",
       "x3                           -0.089264 -0.111055 -0.092989 -0.083522   \n",
       "x4                            0.116837  0.203058  0.201250  0.225023   \n",
       "x5                            0.274435  0.266739  0.237494  0.461038   \n",
       "x6                            0.077260  0.101647  0.083978  0.076557   \n",
       "x7                            0.042412  0.064812  0.050854  0.061415   \n",
       "x8                           -0.006382 -0.000214 -0.001069  0.001520   \n",
       "\n",
       "                         x10        x5        x2       x53        x9  \\\n",
       "Time                0.337162 -0.005669 -0.001065 -0.004674 -0.192999   \n",
       "Financial Distress  0.338298  0.274435  0.272978  0.245600  0.219091   \n",
       "x1                  0.296670  0.109543  0.208851  0.101277 -0.000506   \n",
       "x2                  0.735503  0.892480  1.000000  0.798938  0.729858   \n",
       "x3                 -0.661908 -0.356252 -0.504509 -0.296368 -0.030976   \n",
       "x4                  0.064635  0.194218  0.114046  0.315602  0.135739   \n",
       "x5                  0.645829  1.000000  0.892480  0.906145  0.687468   \n",
       "x6                  0.441091  0.236113  0.298078  0.255941  0.005126   \n",
       "x7                  0.290069  0.110410  0.214098  0.092646  0.019448   \n",
       "x8                  0.007163 -0.011965  0.014020 -0.014444  0.028458   \n",
       "\n",
       "                         x51  ...       x14        x3       x71       x79  \\\n",
       "Time                0.405762  ... -0.130468 -0.259707 -0.412424 -0.196859   \n",
       "Financial Distress  0.191357  ... -0.078073 -0.089264 -0.089890 -0.116661   \n",
       "x1                 -0.067987  ... -0.223763 -0.440321 -0.020399 -0.045919   \n",
       "x2                  0.197861  ... -0.397435 -0.504509  0.032094 -0.104102   \n",
       "x3                  0.019216  ...  0.759448  1.000000  0.111871  0.102163   \n",
       "x4                  0.320267  ...  0.035727  0.094481  0.000471 -0.044051   \n",
       "x5                  0.236526  ... -0.297055 -0.356252  0.019983 -0.120217   \n",
       "x6                 -0.096300  ... -0.435001 -0.593620 -0.051343 -0.084758   \n",
       "x7                 -0.037694  ... -0.191658 -0.398730 -0.036066 -0.017951   \n",
       "x8                 -0.066608  ... -0.006725 -0.006290 -0.007050  0.036357   \n",
       "\n",
       "                         x73       x62       x63       x50       x61       x64  \n",
       "Time               -0.648888 -0.748330 -0.191402 -0.017868 -0.659081 -0.884338  \n",
       "Financial Distress -0.134600 -0.143793 -0.150362 -0.155569 -0.157380 -0.173126  \n",
       "x1                 -0.040829 -0.078965 -0.014623 -0.163607 -0.067027 -0.107117  \n",
       "x2                  0.052388 -0.001604 -0.069930 -0.638515 -0.023174 -0.026297  \n",
       "x3                  0.184080  0.183966  0.075016  0.415127  0.163390  0.222393  \n",
       "x4                 -0.003886 -0.047514 -0.029564  0.305579 -0.047630 -0.059740  \n",
       "x5                  0.035566 -0.008896 -0.094203 -0.624459 -0.036667 -0.025415  \n",
       "x6                 -0.075941 -0.113815 -0.045330 -0.188840 -0.101086 -0.136648  \n",
       "x7                 -0.057026 -0.085511 -0.002137 -0.172219 -0.067887 -0.111500  \n",
       "x8                 -0.000466  0.002513  0.015077  0.014445  0.009484  0.009862  \n",
       "\n",
       "[10 rows x 85 columns]"
      ]
     },
     "execution_count": 7,
     "metadata": {},
     "output_type": "execute_result"
    }
   ],
   "source": [
    "data_corr = data.drop(labels=['Company'], axis=1).corr()\n",
    "data_corr = data_corr.sort_values(ascending=False, axis=1, by='Financial Distress')\n",
    "data_corr.head(10)"
   ]
  },
  {
   "cell_type": "markdown",
   "metadata": {
    "_uuid": "1d77c222c51d0a14e2ddf72a6131534aa514c5a3"
   },
   "source": [
    "## И отобразим ее на карте"
   ]
  },
  {
   "cell_type": "code",
   "execution_count": 8,
   "metadata": {
    "_uuid": "9ab9f9f2789950b2524f77cc7770a25e6d49b9ec"
   },
   "outputs": [
    {
     "data": {
      "text/plain": [
       "<matplotlib.axes._subplots.AxesSubplot at 0x1fd418442b0>"
      ]
     },
     "execution_count": 8,
     "metadata": {},
     "output_type": "execute_result"
    },
    {
     "data": {
      "image/png": "[encoded data removed]",
      "text/plain": [
       "<Figure size 1440x1440 with 2 Axes>"
      ]
     },
     "metadata": {
      "needs_background": "light"
     },
     "output_type": "display_data"
    }
   ],
   "source": [
    "cmap = sns.diverging_palette(220, 10, as_cmap=True)\n",
    "plt.figure(figsize = (20,20))\n",
    "sns.heatmap(data_corr, cmap=cmap)"
   ]
  },
  {
   "cell_type": "markdown",
   "metadata": {
    "_uuid": "0f97dc0ca1a4bc83bb67cad12cd09498067f40be"
   },
   "source": [
    "## Создаем вектор ответов для классификации\n",
    "ОСгласно описанию данных, компании с уровнем Financial Distress не более -0.5 являются проблемными. Поставим задачу как задачу классификации."
   ]
  },
  {
   "cell_type": "code",
   "execution_count": 11,
   "metadata": {
    "_uuid": "dabf4b5a302b049d2fa68557793e02b335c5e120"
   },
   "outputs": [
    {
     "data": {
      "text/html": [
       "<div>\n",
       "<style scoped>\n",
       "    .dataframe tbody tr th:only-of-type {\n",
       "        vertical-align: middle;\n",
       "    }\n",
       "\n",
       "    .dataframe tbody tr th {\n",
       "        vertical-align: top;\n",
       "    }\n",
       "\n",
       "    .dataframe thead th {\n",
       "        text-align: right;\n",
       "    }\n",
       "</style>\n",
       "<table border=\"1\" class=\"dataframe\">\n",
       "  <thead>\n",
       "    <tr style=\"text-align: right;\">\n",
       "      <th></th>\n",
       "      <th>Financial Distress</th>\n",
       "      <th>Distressed</th>\n",
       "    </tr>\n",
       "  </thead>\n",
       "  <tbody>\n",
       "    <tr>\n",
       "      <th>3</th>\n",
       "      <td>-0.56657</td>\n",
       "      <td>1</td>\n",
       "    </tr>\n",
       "    <tr>\n",
       "      <th>18</th>\n",
       "      <td>-1.65990</td>\n",
       "      <td>1</td>\n",
       "    </tr>\n",
       "    <tr>\n",
       "      <th>71</th>\n",
       "      <td>-1.26540</td>\n",
       "      <td>1</td>\n",
       "    </tr>\n",
       "    <tr>\n",
       "      <th>122</th>\n",
       "      <td>-0.80159</td>\n",
       "      <td>1</td>\n",
       "    </tr>\n",
       "    <tr>\n",
       "      <th>123</th>\n",
       "      <td>-0.66786</td>\n",
       "      <td>1</td>\n",
       "    </tr>\n",
       "    <tr>\n",
       "      <th>125</th>\n",
       "      <td>-0.89383</td>\n",
       "      <td>1</td>\n",
       "    </tr>\n",
       "    <tr>\n",
       "      <th>133</th>\n",
       "      <td>-0.66968</td>\n",
       "      <td>1</td>\n",
       "    </tr>\n",
       "    <tr>\n",
       "      <th>139</th>\n",
       "      <td>-2.70310</td>\n",
       "      <td>1</td>\n",
       "    </tr>\n",
       "    <tr>\n",
       "      <th>144</th>\n",
       "      <td>-3.65740</td>\n",
       "      <td>1</td>\n",
       "    </tr>\n",
       "    <tr>\n",
       "      <th>153</th>\n",
       "      <td>-1.99710</td>\n",
       "      <td>1</td>\n",
       "    </tr>\n",
       "  </tbody>\n",
       "</table>\n",
       "</div>"
      ],
      "text/plain": [
       "     Financial Distress  Distressed\n",
       "3              -0.56657           1\n",
       "18             -1.65990           1\n",
       "71             -1.26540           1\n",
       "122            -0.80159           1\n",
       "123            -0.66786           1\n",
       "125            -0.89383           1\n",
       "133            -0.66968           1\n",
       "139            -2.70310           1\n",
       "144            -3.65740           1\n",
       "153            -1.99710           1"
      ]
     },
     "execution_count": 11,
     "metadata": {},
     "output_type": "execute_result"
    }
   ],
   "source": [
    "distressed = [1 if row['Financial Distress'] <= -0.5 else 0 for _, row in data.iterrows()]\n",
    "data_full = data\n",
    "data_full['Distressed'] = pd.Series(distressed)\n",
    "data_full.loc[data_full['Distressed'] == 1, ['Financial Distress', 'Distressed']].head(10)"
   ]
  },
  {
   "cell_type": "markdown",
   "metadata": {
    "_uuid": "4bd4c1d9c23d8216535c2f50cb9c695bd361000c"
   },
   "source": [
    "## Посмотрим как состояние \"Distressed\" зависит от признаков"
   ]
  },
  {
   "cell_type": "markdown",
   "metadata": {
    "_uuid": "569fa7852c5dbdc808e65c47a610e460c36863bb"
   },
   "source": [
    "g = sns.PairGrid(data_full, x_vars='Time', y_vars=list(data.columns[3:]), hue='Distressed', size=5)\n",
    "g = g.map(plt.scatter, alpha=.3)"
   ]
  },
  {
   "cell_type": "markdown",
   "metadata": {
    "_uuid": "f996f7837e751150db2186bf842a26b22c10d0e4"
   },
   "source": [
    "## Разделим данные на обучающую и тестовую выборку.\n",
    "Обучающая выборка будет использоваться для кросс-валидации и настройки гиперпараметров."
   ]
  },
  {
   "cell_type": "code",
   "execution_count": 12,
   "metadata": {
    "_uuid": "5aa62bd8613680a02fdaa9589ef7680d62bd71f6"
   },
   "outputs": [],
   "source": [
    "from sklearn.model_selection import StratifiedShuffleSplit"
   ]
  },
  {
   "cell_type": "code",
   "execution_count": 13,
   "metadata": {
    "_uuid": "852b4ab9dbdd0b4f7d1dd12e34455369ac9cbfe9",
    "scrolled": true
   },
   "outputs": [
    {
     "name": "stdout",
     "output_type": "stream",
     "text": [
      "CV: [3386 1214 2525 ... 2416  634 2924] HO: [2474 1786 1337 ... 3543 2556 1521]\n"
     ]
    }
   ],
   "source": [
    "SSS = StratifiedShuffleSplit(random_state=10, test_size=.3, n_splits=1)\n",
    "X = data_full.iloc[:, 3:-1].drop('x80', axis=1)\n",
    "y = data_full['Distressed'] \n",
    "for train_index, test_index in SSS.split(X, y):\n",
    "    print(\"CV:\", train_index, \"HO:\", test_index)\n",
    "    X_cv, X_ho = X.iloc[train_index], X.iloc[test_index]\n",
    "    y_cv, y_ho = y[train_index], y[test_index]\n",
    "# X_cv, X_ho, y_cv, y_ho = StratifiedShuffleSplit(data_shuffled.iloc[:, 3:-1], data_shuffled['Distressed'],\n",
    "#                                                    test_size=0.33, random_state=10)"
   ]
  },
  {
   "cell_type": "code",
   "execution_count": 14,
   "metadata": {
    "_uuid": "6d4c37cd8fa297ee2293ef6592246ebfe05e7b39"
   },
   "outputs": [
    {
     "name": "stdout",
     "output_type": "stream",
     "text": [
      "CV distress: 95 \n",
      "HO distress: 41\n"
     ]
    }
   ],
   "source": [
    "print('CV distress:', sum(y_cv), '\\nHO distress:', sum(y_ho))"
   ]
  },
  {
   "cell_type": "markdown",
   "metadata": {
    "_uuid": "14d2456cda2f1a3dd2ac37771c2aace50096c5c4"
   },
   "source": [
    "## Классы очень несбалансированы"
   ]
  },
  {
   "cell_type": "code",
   "execution_count": 15,
   "metadata": {
    "_uuid": "bc65e1bef789f4086fbbbb62ea14041216f9a04a"
   },
   "outputs": [
    {
     "data": {
      "text/plain": [
       "0    3536\n",
       "1     136\n",
       "Name: Distressed, dtype: int64"
      ]
     },
     "execution_count": 15,
     "metadata": {},
     "output_type": "execute_result"
    }
   ],
   "source": [
    "data_full['Distressed'].value_counts()"
   ]
  },
  {
   "cell_type": "code",
   "execution_count": 16,
   "metadata": {
    "_uuid": "da09015c38c528a85180e094dc047145d4a54c13"
   },
   "outputs": [
    {
     "data": {
      "text/plain": [
       "0.038461538461538464"
      ]
     },
     "execution_count": 16,
     "metadata": {},
     "output_type": "execute_result"
    }
   ],
   "source": [
    "136/3536"
   ]
  },
  {
   "cell_type": "markdown",
   "metadata": {
    "_uuid": "879edc130b42d7f5df2ca13e4bfd11fef15d4280"
   },
   "source": [
    "## Первую серию моделей будем строить для несбалансированных классов без дополнительного feature engineering"
   ]
  },
  {
   "cell_type": "code",
   "execution_count": 17,
   "metadata": {
    "_uuid": "f9131ad02aba9f412a7303384b6f23a11d0fa157"
   },
   "outputs": [],
   "source": [
    "from sklearn.ensemble import RandomForestClassifier\n",
    "from sklearn.linear_model import LogisticRegression\n",
    "import xgboost as xgb\n",
    "from sklearn.metrics import recall_score\n",
    "from sklearn.metrics import precision_score\n",
    "from sklearn.metrics import f1_score\n",
    "from sklearn.model_selection import RandomizedSearchCV\n",
    "from sklearn.model_selection import GridSearchCV\n",
    "from pprint import pprint"
   ]
  },
  {
   "cell_type": "markdown",
   "metadata": {
    "_uuid": "7dd57b3366738f7d05ca97ed82fefc7b72910d2e"
   },
   "source": [
    "## Случайный лес"
   ]
  },
  {
   "cell_type": "code",
   "execution_count": 18,
   "metadata": {
    "_uuid": "9ec5e9deb2f2235c0e96150558c9a91c61d50af8"
   },
   "outputs": [],
   "source": [
    "n_estimators = [int(x) for x in np.linspace(start = 100, stop = 1000, num = 50)]\n",
    "max_features = ['auto', 'sqrt']\n",
    "max_depth = [int(x) for x in np.linspace(5, 55, num = 10)]\n",
    "max_depth.append(None)\n",
    "min_samples_split = [2, 5, 10]\n",
    "min_samples_leaf = [1, 2, 3, 4]\n",
    "bootstrap = [True, False]\n",
    "class_weight = ['balanced', None]\n",
    "\n",
    "random_grid = {'n_estimators': n_estimators,\n",
    "               'max_features': max_features,\n",
    "               'max_depth': max_depth,\n",
    "               'min_samples_split': min_samples_split,\n",
    "               'min_samples_leaf': min_samples_leaf,\n",
    "               'bootstrap': bootstrap,\n",
    "               'class_weight': class_weight}"
   ]
  },
  {
   "cell_type": "code",
   "execution_count": 19,
   "metadata": {
    "_uuid": "5896c9903ac2a7cf0dec1f66f8369d4cec1f408a",
    "scrolled": true
   },
   "outputs": [
    {
     "name": "stdout",
     "output_type": "stream",
     "text": [
      "Fitting 3 folds for each of 10 candidates, totalling 30 fits\n"
     ]
    },
    {
     "name": "stderr",
     "output_type": "stream",
     "text": [
      "[Parallel(n_jobs=-1)]: Using backend LokyBackend with 8 concurrent workers.\n",
      "[Parallel(n_jobs=-1)]: Done  30 out of  30 | elapsed:   30.0s finished\n"
     ]
    },
    {
     "data": {
      "text/plain": [
       "RandomizedSearchCV(cv=3,\n",
       "                   estimator=RandomForestClassifier(class_weight='balanced',\n",
       "                                                    random_state=10),\n",
       "                   n_jobs=-1,\n",
       "                   param_distributions={'bootstrap': [True, False],\n",
       "                                        'class_weight': ['balanced', None],\n",
       "                                        'max_depth': [5, 10, 16, 21, 27, 32, 38,\n",
       "                                                      43, 49, 55, None],\n",
       "                                        'max_features': ['auto', 'sqrt'],\n",
       "                                        'min_samples_leaf': [1, 2, 3, 4],\n",
       "                                        'min_samples_split': [2, 5, 10],\n",
       "                                        'n_estimators': [100, 118, 136, 155,\n",
       "                                                         173, 191, 210, 228,\n",
       "                                                         246, 265, 283, 302,\n",
       "                                                         320, 338, 357, 375,\n",
       "                                                         393, 412, 430, 448,\n",
       "                                                         467, 485, 504, 522,\n",
       "                                                         540, 559, 577, 595,\n",
       "                                                         614, 632, ...]},\n",
       "                   random_state=10, refit='f1',\n",
       "                   scoring=['f1', 'precision', 'recall'], verbose=2)"
      ]
     },
     "execution_count": 19,
     "metadata": {},
     "output_type": "execute_result"
    }
   ],
   "source": [
    "rf_clsf = RandomForestClassifier(random_state=10, class_weight='balanced')\n",
    "rf_random = RandomizedSearchCV(estimator = rf_clsf, param_distributions = random_grid, n_iter = 10, cv = 3, verbose=2, random_state=10, n_jobs = -1, refit='f1', scoring=['f1', 'precision', 'recall'])\n",
    "rf_random.fit(X_cv, y_cv)"
   ]
  },
  {
   "cell_type": "code",
   "execution_count": 20,
   "metadata": {
    "_uuid": "ff43808baa3d356680bf1e8958c64170ce834f9f"
   },
   "outputs": [
    {
     "name": "stdout",
     "output_type": "stream",
     "text": [
      "0.3741241669678581\n"
     ]
    }
   ],
   "source": [
    "print(rf_random.best_score_)"
   ]
  },
  {
   "cell_type": "code",
   "execution_count": 21,
   "metadata": {
    "_uuid": "39ccf13cc1bec931c73cc47d1c3c04a367b99f14"
   },
   "outputs": [
    {
     "data": {
      "text/plain": [
       "RandomForestClassifier(bootstrap=False, class_weight='balanced', max_depth=10,\n",
       "                       min_samples_leaf=3, min_samples_split=10,\n",
       "                       n_estimators=412, random_state=10)"
      ]
     },
     "execution_count": 21,
     "metadata": {},
     "output_type": "execute_result"
    }
   ],
   "source": [
    "best_rf_clsf = rf_random.best_estimator_\n",
    "best_rf_clsf.fit(X_cv, y_cv)"
   ]
  },
  {
   "cell_type": "code",
   "execution_count": 22,
   "metadata": {
    "_uuid": "7cb25c3e040a803014c3eab28f7a977ecd61ca5c"
   },
   "outputs": [
    {
     "name": "stdout",
     "output_type": "stream",
     "text": [
      "0.5853658536585366 0.3333333333333333 0.42477876106194684\n"
     ]
    }
   ],
   "source": [
    "print(recall_score(y_ho, best_rf_clsf.predict(X_ho)),\n",
    "      precision_score(y_ho, best_rf_clsf.predict(X_ho)),\n",
    "      f1_score(y_ho, best_rf_clsf.predict(X_ho)))"
   ]
  },
  {
   "cell_type": "code",
   "execution_count": 23,
   "metadata": {
    "_uuid": "e638bfcc0a693918a2ff428f0430de4ada9dfafa"
   },
   "outputs": [
    {
     "name": "stdout",
     "output_type": "stream",
     "text": [
      "41 72 24\n"
     ]
    }
   ],
   "source": [
    "print(sum(y_ho), sum(best_rf_clsf.predict(X_ho)), sum(y_ho.multiply(best_rf_clsf.predict(X_ho))))"
   ]
  },
  {
   "cell_type": "code",
   "execution_count": 24,
   "metadata": {},
   "outputs": [
    {
     "data": {
      "text/plain": [
       "<matplotlib.legend.Legend at 0x1fd45326438>"
      ]
     },
     "execution_count": 24,
     "metadata": {},
     "output_type": "execute_result"
    },
    {
     "data": {
      "image/png": "[encoded data removed]",
      "text/plain": [
       "<Figure size 432x288 with 1 Axes>"
      ]
     },
     "metadata": {
      "needs_background": "light"
     },
     "output_type": "display_data"
    }
   ],
   "source": [
    "from sklearn.metrics import roc_auc_score\n",
    "probs = best_rf_clsf.predict_proba(X_ho)[:,1]\n",
    "    # Рассчитываем roc auc\n",
    "roc_value = roc_auc_score(y_ho, probs)\n",
    "rocVRF = roc_value\n",
    "from sklearn import metrics\n",
    "fpr, tpr, _ = metrics.roc_curve(y_ho, probs)\n",
    "figure = plt.plot(fpr,tpr,label=\"data 1, auc=\"+str(roc_value))\n",
    "plt.legend(loc=4)"
   ]
  },
  {
   "cell_type": "markdown",
   "metadata": {
    "_uuid": "a44f0979d12762398cc02c58addc4597b3fb868b"
   },
   "source": [
    "## Логистическая регрессия"
   ]
  },
  {
   "cell_type": "code",
   "execution_count": 25,
   "metadata": {
    "_uuid": "993721b2d6174eeb34ea8078423d6aa7cb46c623"
   },
   "outputs": [],
   "source": [
    "lr_penalty = ['l1']\n",
    "lr_class_weight = ['balanced', None]\n",
    "lr_C = [0.001, 0.01, 0.1, 1, 10]\n",
    "lr_solver = ['liblinear', 'saga']\n",
    "\n",
    "lr_grid = {'penalty': lr_penalty,\n",
    "           'class_weight': lr_class_weight,\n",
    "           'C': lr_C,\n",
    "           #'max_iter': lr_max_iter,\n",
    "           'solver': lr_solver}"
   ]
  },
  {
   "cell_type": "code",
   "execution_count": 26,
   "metadata": {
    "_uuid": "f972c5cdf3806b0472ddc81a457b96f734f6a8a9",
    "scrolled": true
   },
   "outputs": [
    {
     "name": "stdout",
     "output_type": "stream",
     "text": [
      "Fitting 3 folds for each of 20 candidates, totalling 60 fits\n"
     ]
    },
    {
     "name": "stderr",
     "output_type": "stream",
     "text": [
      "[Parallel(n_jobs=-1)]: Using backend LokyBackend with 8 concurrent workers.\n",
      "[Parallel(n_jobs=-1)]: Done  33 tasks      | elapsed:   34.5s\n",
      "[Parallel(n_jobs=-1)]: Done  45 out of  60 | elapsed:  1.4min remaining:   28.5s\n",
      "[Parallel(n_jobs=-1)]: Done  60 out of  60 | elapsed:  3.3min finished\n",
      "C:\\Users\\darya\\Anaconda3\\lib\\site-packages\\sklearn\\svm\\_base.py:977: ConvergenceWarning: Liblinear failed to converge, increase the number of iterations.\n",
      "  \"the number of iterations.\", ConvergenceWarning)\n"
     ]
    },
    {
     "data": {
      "text/plain": [
       "GridSearchCV(cv=3, estimator=LogisticRegression(max_iter=1000, random_state=10),\n",
       "             n_jobs=-1,\n",
       "             param_grid={'C': [0.001, 0.01, 0.1, 1, 10],\n",
       "                         'class_weight': ['balanced', None], 'penalty': ['l1'],\n",
       "                         'solver': ['liblinear', 'saga']},\n",
       "             refit='f1', scoring=['f1', 'precision', 'recall'], verbose=2)"
      ]
     },
     "execution_count": 26,
     "metadata": {},
     "output_type": "execute_result"
    }
   ],
   "source": [
    "lr_clsf = LogisticRegression(random_state=10, max_iter=1000)\n",
    "lr_grid = GridSearchCV(estimator = lr_clsf, param_grid = lr_grid, cv = 3, verbose=2, n_jobs = -1, refit='f1', scoring=['f1', 'precision', 'recall'])\n",
    "lr_grid.fit(X_cv, y_cv)"
   ]
  },
  {
   "cell_type": "code",
   "execution_count": 27,
   "metadata": {
    "_uuid": "2d7ec9ea70d8332df32f2ffe543dcc9c278f63f6"
   },
   "outputs": [
    {
     "data": {
      "text/plain": [
       "0.30109452736318404"
      ]
     },
     "execution_count": 27,
     "metadata": {},
     "output_type": "execute_result"
    }
   ],
   "source": [
    "lr_grid.best_score_"
   ]
  },
  {
   "cell_type": "code",
   "execution_count": 28,
   "metadata": {
    "_uuid": "1d4e842f04cb4fabddf0d77ba3d870d0506bf8f0"
   },
   "outputs": [
    {
     "name": "stderr",
     "output_type": "stream",
     "text": [
      "C:\\Users\\darya\\Anaconda3\\lib\\site-packages\\sklearn\\svm\\_base.py:977: ConvergenceWarning: Liblinear failed to converge, increase the number of iterations.\n",
      "  \"the number of iterations.\", ConvergenceWarning)\n"
     ]
    },
    {
     "data": {
      "text/plain": [
       "LogisticRegression(C=1, class_weight='balanced', max_iter=1000, penalty='l1',\n",
       "                   random_state=10, solver='liblinear')"
      ]
     },
     "execution_count": 28,
     "metadata": {},
     "output_type": "execute_result"
    }
   ],
   "source": [
    "best_lr_clsf = lr_grid.best_estimator_\n",
    "best_lr_clsf.fit(X_cv, y_cv)"
   ]
  },
  {
   "cell_type": "code",
   "execution_count": 29,
   "metadata": {
    "_uuid": "c812f99be223352de24f440abe9c51fd028db877"
   },
   "outputs": [
    {
     "name": "stdout",
     "output_type": "stream",
     "text": [
      "0.8292682926829268 0.17346938775510204 0.2869198312236287\n"
     ]
    }
   ],
   "source": [
    "print(recall_score(y_ho, best_lr_clsf.predict(X_ho)),\n",
    "      precision_score(y_ho, best_lr_clsf.predict(X_ho)),\n",
    "      f1_score(y_ho, best_lr_clsf.predict(X_ho)))"
   ]
  },
  {
   "cell_type": "code",
   "execution_count": 30,
   "metadata": {
    "_uuid": "51a34424f97ed275a6b3749eb5f82982a3c5a8a8"
   },
   "outputs": [
    {
     "name": "stdout",
     "output_type": "stream",
     "text": [
      "41 196 34\n"
     ]
    }
   ],
   "source": [
    "print(sum(y_ho), sum(best_lr_clsf.predict(X_ho)), sum(y_ho.multiply(best_lr_clsf.predict(X_ho))))"
   ]
  },
  {
   "cell_type": "code",
   "execution_count": 32,
   "metadata": {},
   "outputs": [
    {
     "data": {
      "text/plain": [
       "<matplotlib.legend.Legend at 0x1fd45326f98>"
      ]
     },
     "execution_count": 32,
     "metadata": {},
     "output_type": "execute_result"
    },
    {
     "data": {
      "image/png": "[encoded data removed]",
      "text/plain": [
       "<Figure size 432x288 with 1 Axes>"
      ]
     },
     "metadata": {
      "needs_background": "light"
     },
     "output_type": "display_data"
    }
   ],
   "source": [
    "from sklearn.metrics import roc_auc_score\n",
    "probs = best_lr_clsf.predict_proba(X_ho)[:,1]\n",
    "    # Рассчитываем roc auc\n",
    "roc_value = roc_auc_score(y_ho, probs)\n",
    "rocVLR = roc_value\n",
    "\n",
    "from sklearn import metrics\n",
    "fpr, tpr, _ = metrics.roc_curve(y_ho, probs)\n",
    "figure = plt.plot(fpr,tpr,label=\"data 1, auc=\"+str(roc_value))\n",
    "plt.legend(loc=4)"
   ]
  },
  {
   "cell_type": "markdown",
   "metadata": {
    "_uuid": "0bd75f37839a6cd05b71b1496a0722359718276d"
   },
   "source": [
    "## XGBoost"
   ]
  },
  {
   "cell_type": "code",
   "execution_count": 33,
   "metadata": {
    "_uuid": "0a938c76087289f5446fda8c684377d7152668ad"
   },
   "outputs": [],
   "source": [
    "xgb_learning_rate = [x for x in np.linspace(start = 0.001, stop = 0.1, num = 10)]\n",
    "xgb_n_estimators = [int(x) for x in np.linspace(start = 100, stop = 1000, num = 10)]\n",
    "xgb_booster = ['gbtree', 'dart']\n",
    "xgb_colsample_bytree = [0.4, 0.6, 0.8, 1.0]\n",
    "xgb_colsample_bylevel = [0.5, 0.75, 1.0]\n",
    "xgb_scale_pos_weight = [(len(y_cv) - sum(y_cv))/sum(y_cv)]\n",
    "xgb_min_child_weight = [1]\n",
    "xgb_subsample = [0.5, 1.0]\n",
    "\n",
    "\n",
    "random_grid = {'learning_rate': xgb_learning_rate,\n",
    "               'n_estimators': xgb_n_estimators,\n",
    "               'booster': xgb_booster,\n",
    "               'colsample_bytree': xgb_colsample_bytree,\n",
    "               'colsample_bylevel': xgb_colsample_bylevel,\n",
    "               'scale_pos_weight': xgb_scale_pos_weight,\n",
    "               'min_child_weight': xgb_min_child_weight,\n",
    "               'subsample': xgb_subsample}"
   ]
  },
  {
   "cell_type": "code",
   "execution_count": 34,
   "metadata": {
    "_uuid": "00cbaec0afbbea3b21822f43fac17f9145f7edeb",
    "scrolled": true
   },
   "outputs": [
    {
     "name": "stdout",
     "output_type": "stream",
     "text": [
      "Fitting 3 folds for each of 10 candidates, totalling 30 fits\n"
     ]
    },
    {
     "name": "stderr",
     "output_type": "stream",
     "text": [
      "[Parallel(n_jobs=-1)]: Using backend LokyBackend with 8 concurrent workers.\n",
      "[Parallel(n_jobs=-1)]: Done  30 out of  30 | elapsed:   17.1s finished\n"
     ]
    },
    {
     "data": {
      "text/plain": [
       "RandomizedSearchCV(cv=3,\n",
       "                   estimator=XGBClassifier(base_score=None, booster=None,\n",
       "                                           colsample_bylevel=None,\n",
       "                                           colsample_bynode=None,\n",
       "                                           colsample_bytree=None, gamma=None,\n",
       "                                           gpu_id=None, importance_type='gain',\n",
       "                                           interaction_constraints=None,\n",
       "                                           learning_rate=None,\n",
       "                                           max_delta_step=None, max_depth=None,\n",
       "                                           min_child_weight=None, missing=nan,\n",
       "                                           monotone_constraints=None,\n",
       "                                           n_estimators=100,...\n",
       "                                        'learning_rate': [0.001, 0.012,\n",
       "                                                          0.023000000000000003,\n",
       "                                                          0.034,\n",
       "                                                          0.045000000000000005,\n",
       "                                                          0.05600000000000001,\n",
       "                                                          0.067,\n",
       "                                                          0.07800000000000001,\n",
       "                                                          0.08900000000000001,\n",
       "                                                          0.1],\n",
       "                                        'min_child_weight': [1],\n",
       "                                        'n_estimators': [100, 200, 300, 400,\n",
       "                                                         500, 600, 700, 800,\n",
       "                                                         900, 1000],\n",
       "                                        'scale_pos_weight': [26.05263157894737],\n",
       "                                        'subsample': [0.5, 1.0]},\n",
       "                   random_state=10, refit='f1',\n",
       "                   scoring=['f1', 'precision', 'recall'], verbose=2)"
      ]
     },
     "execution_count": 34,
     "metadata": {},
     "output_type": "execute_result"
    }
   ],
   "source": [
    "xgb_clsf = xgb.XGBClassifier(random_state=10)\n",
    "xgb_random = RandomizedSearchCV(estimator = xgb_clsf, param_distributions = random_grid, n_iter = 10, cv = 3, verbose=2, random_state=10, n_jobs = -1, refit='f1', scoring=['f1', 'precision', 'recall'])\n",
    "xgb_random.fit(X_cv, y_cv)"
   ]
  },
  {
   "cell_type": "code",
   "execution_count": 35,
   "metadata": {
    "_uuid": "d6ba24846c61cf7bc52e7fde13e56be6fc66cdfa"
   },
   "outputs": [
    {
     "data": {
      "text/plain": [
       "0.3617083144025443"
      ]
     },
     "execution_count": 35,
     "metadata": {},
     "output_type": "execute_result"
    }
   ],
   "source": [
    "xgb_random.best_score_"
   ]
  },
  {
   "cell_type": "code",
   "execution_count": 36,
   "metadata": {
    "_uuid": "86b282374f28c2b5daf5ce1f880e48b45834be5c"
   },
   "outputs": [
    {
     "data": {
      "text/plain": [
       "XGBClassifier(base_score=0.5, booster='dart', colsample_bylevel=0.75,\n",
       "              colsample_bynode=1, colsample_bytree=0.6, gamma=0, gpu_id=-1,\n",
       "              importance_type='gain', interaction_constraints='',\n",
       "              learning_rate=0.023000000000000003, max_delta_step=0, max_depth=6,\n",
       "              min_child_weight=1, missing=nan, monotone_constraints='()',\n",
       "              n_estimators=100, n_jobs=0, num_parallel_tree=1, random_state=10,\n",
       "              reg_alpha=0, reg_lambda=1, scale_pos_weight=26.05263157894737,\n",
       "              subsample=1.0, tree_method='exact', validate_parameters=1,\n",
       "              verbosity=None)"
      ]
     },
     "execution_count": 36,
     "metadata": {},
     "output_type": "execute_result"
    }
   ],
   "source": [
    "best_xgb_clsf = xgb_random.best_estimator_\n",
    "best_xgb_clsf.fit(X_cv, y_cv)"
   ]
  },
  {
   "cell_type": "code",
   "execution_count": 37,
   "metadata": {
    "_uuid": "e4807ef307cc52f19e39b209fa73911452bb52d4"
   },
   "outputs": [
    {
     "name": "stdout",
     "output_type": "stream",
     "text": [
      "0.6097560975609756 0.25 0.3546099290780142\n"
     ]
    }
   ],
   "source": [
    "print(recall_score(y_ho, best_xgb_clsf.predict(X_ho)),\n",
    "      precision_score(y_ho, best_xgb_clsf.predict(X_ho)),\n",
    "      f1_score(y_ho, best_xgb_clsf.predict(X_ho)))"
   ]
  },
  {
   "cell_type": "code",
   "execution_count": 38,
   "metadata": {
    "_uuid": "93628c2a0420dbf08a5b2a9c6d7d944b5a519901"
   },
   "outputs": [
    {
     "name": "stdout",
     "output_type": "stream",
     "text": [
      "41 100 25\n"
     ]
    }
   ],
   "source": [
    "print(sum(y_ho), sum(best_xgb_clsf.predict(X_ho)), sum(y_ho.multiply(best_xgb_clsf.predict(X_ho))))"
   ]
  },
  {
   "cell_type": "code",
   "execution_count": 39,
   "metadata": {},
   "outputs": [
    {
     "data": {
      "text/plain": [
       "<matplotlib.legend.Legend at 0x1fd46580748>"
      ]
     },
     "execution_count": 39,
     "metadata": {},
     "output_type": "execute_result"
    },
    {
     "data": {
      "image/png": "[encoded data removed]",
      "text/plain": [
       "<Figure size 432x288 with 1 Axes>"
      ]
     },
     "metadata": {
      "needs_background": "light"
     },
     "output_type": "display_data"
    }
   ],
   "source": [
    "from sklearn.metrics import roc_auc_score\n",
    "probs = best_xgb_clsf.predict_proba(X_ho)[:,1]\n",
    "    # Рассчитываем roc auc\n",
    "roc_value = roc_auc_score(y_ho, probs)\n",
    "rocVXB = roc_value\n",
    "from sklearn import metrics\n",
    "fpr, tpr, _ = metrics.roc_curve(y_ho, probs)\n",
    "figure = plt.plot(fpr,tpr,label=\"data 1, auc=\"+str(roc_value))\n",
    "plt.legend(loc=4)"
   ]
  },
  {
   "cell_type": "markdown",
   "metadata": {
    "_uuid": "995ade2d3be7082c75c29cee28d80fff064bd67b"
   },
   "source": [
    "## Для второй серии моделей кодируем категориальный признак, прошкалируем данные, а так же будем оверсэмплить класс, находящийся в меньшинстве"
   ]
  },
  {
   "cell_type": "code",
   "execution_count": 40,
   "metadata": {
    "_uuid": "fe28d60d6df950115d8d746384e5d7ff4e068a79"
   },
   "outputs": [],
   "source": [
    "from sklearn.preprocessing import StandardScaler\n",
    "from sklearn.preprocessing import OneHotEncoder\n",
    "from imblearn.over_sampling import SMOTE"
   ]
  },
  {
   "cell_type": "code",
   "execution_count": 41,
   "metadata": {
    "_uuid": "88c382835d72c94703929d14a8cb185090e83088"
   },
   "outputs": [],
   "source": [
    "X = data_full.iloc[:, 3:-1]\n",
    "y = data_full['Distressed'] "
   ]
  },
  {
   "cell_type": "code",
   "execution_count": 43,
   "metadata": {
    "_uuid": "44bc8ed4908919a351d9dab2110c81bb667fdd37"
   },
   "outputs": [
    {
     "name": "stdout",
     "output_type": "stream",
     "text": [
      "CV: [3386 1214 2525 ... 2416  634 2924] HO: [2474 1786 1337 ... 3543 2556 1521]\n"
     ]
    }
   ],
   "source": [
    "\n",
    "# data_scaled = pd.concat([data_full['x80'],data_scaled], axis=1)\n",
    "# enc = OneHotEncoder(n_values=len(X['x80'].unique()), categorical_features=X.columns.get_loc(\"x80\"))\n",
    "X_encoded = pd.get_dummies(X, columns=['x80'], prefix='x80_')\n",
    "scaler = StandardScaler()\n",
    "X_scaled = scaler.fit_transform(X_encoded)\n",
    "X_scaled = pd.DataFrame(X_scaled, index=X_encoded.index, columns=X_encoded.columns)\n",
    "#data_scaled['x80'] = data_full['x80'].values\n",
    "for train_index, test_index in SSS.split(X_scaled, y):\n",
    "    print(\"CV:\", train_index, \"HO:\", test_index)\n",
    "    X_train, X_test = X_scaled.iloc[train_index], X_scaled.iloc[test_index]\n",
    "    y_train, y_test = y[train_index], y[test_index]\n",
    "sm = SMOTE(random_state=10)\n",
    "X_train, y_train = sm.fit_sample(X_train, y_train)\n",
    "# X_train = pd.DataFrame(X_train, index=X_encoded.index, columns=X_encoded.columns)\n",
    "# y_train = pd.DataFrame(y, index=y.index, columns=y.columns)\n"
   ]
  },
  {
   "cell_type": "code",
   "execution_count": 44,
   "metadata": {
    "_uuid": "45b30be9d58d049cc44d26958fade1a76ac7fc8c",
    "scrolled": true
   },
   "outputs": [
    {
     "data": {
      "text/plain": [
       "2474    0\n",
       "1786    1\n",
       "1337    0\n",
       "2935    0\n",
       "1446    0\n",
       "532     0\n",
       "2595    0\n",
       "3318    0\n",
       "1817    0\n",
       "2898    0\n",
       "676     0\n",
       "1212    0\n",
       "1972    0\n",
       "3387    0\n",
       "1903    0\n",
       "1679    0\n",
       "1782    0\n",
       "259     0\n",
       "1485    0\n",
       "2847    0\n",
       "1475    0\n",
       "2293    0\n",
       "1145    0\n",
       "2147    0\n",
       "647     0\n",
       "571     0\n",
       "1393    0\n",
       "197     0\n",
       "743     0\n",
       "1455    0\n",
       "       ..\n",
       "425     0\n",
       "1540    0\n",
       "2767    0\n",
       "721     0\n",
       "456     0\n",
       "816     0\n",
       "1964    0\n",
       "2133    0\n",
       "2772    0\n",
       "3590    0\n",
       "357     0\n",
       "1449    0\n",
       "139     1\n",
       "2615    0\n",
       "551     0\n",
       "547     0\n",
       "2547    0\n",
       "889     0\n",
       "3665    0\n",
       "539     0\n",
       "1594    0\n",
       "3007    0\n",
       "1348    0\n",
       "564     0\n",
       "2330    0\n",
       "367     0\n",
       "2456    0\n",
       "3543    0\n",
       "2556    0\n",
       "1521    0\n",
       "Name: Distressed, Length: 1102, dtype: int64"
      ]
     },
     "execution_count": 44,
     "metadata": {},
     "output_type": "execute_result"
    }
   ],
   "source": [
    "y_test"
   ]
  },
  {
   "cell_type": "markdown",
   "metadata": {
    "_uuid": "382881a28211e35704056ae1990a454c1e566612"
   },
   "source": [
    "## Случайный лес после обработки признаков"
   ]
  },
  {
   "cell_type": "code",
   "execution_count": 45,
   "metadata": {
    "_uuid": "97aa79a04eeb83fe85cbe2fee029e1cb2f062034"
   },
   "outputs": [],
   "source": [
    "rf_n_estimators = [int(x) for x in np.linspace(start = 100, stop = 1000, num = 10)]\n",
    "rf_max_features = ['auto', 'sqrt']\n",
    "rf_max_depth = [int(x) for x in np.linspace(50, 100, num = 10)]\n",
    "rf_max_depth.append(None)\n",
    "rf_min_samples_split = [2, 5, 10]\n",
    "rf_min_samples_leaf = [1, 2, 3, 4]\n",
    "rf_bootstrap = [True, False]\n",
    "rf_class_weight = ['balanced', None]\n",
    "\n",
    "rf_random_grid = {'n_estimators': rf_n_estimators,\n",
    "               'max_features': rf_max_features,\n",
    "               'max_depth': rf_max_depth,\n",
    "               'min_samples_split': rf_min_samples_split,\n",
    "               'min_samples_leaf': rf_min_samples_leaf,\n",
    "               'bootstrap': rf_bootstrap,\n",
    "               'class_weight': rf_class_weight}"
   ]
  },
  {
   "cell_type": "code",
   "execution_count": 46,
   "metadata": {
    "_uuid": "47a73a5ec7d2b54908ac7411512800dae4fa0b1d",
    "scrolled": true
   },
   "outputs": [
    {
     "name": "stdout",
     "output_type": "stream",
     "text": [
      "Fitting 3 folds for each of 10 candidates, totalling 30 fits\n"
     ]
    },
    {
     "name": "stderr",
     "output_type": "stream",
     "text": [
      "[Parallel(n_jobs=-1)]: Using backend LokyBackend with 8 concurrent workers.\n",
      "[Parallel(n_jobs=-1)]: Done  30 out of  30 | elapsed:   57.2s finished\n"
     ]
    },
    {
     "data": {
      "text/plain": [
       "RandomizedSearchCV(cv=3, estimator=RandomForestClassifier(random_state=10),\n",
       "                   n_jobs=-1,\n",
       "                   param_distributions={'bootstrap': [True, False],\n",
       "                                        'class_weight': ['balanced', None],\n",
       "                                        'max_depth': [50, 55, 61, 66, 72, 77,\n",
       "                                                      83, 88, 94, 100, None],\n",
       "                                        'max_features': ['auto', 'sqrt'],\n",
       "                                        'min_samples_leaf': [1, 2, 3, 4],\n",
       "                                        'min_samples_split': [2, 5, 10],\n",
       "                                        'n_estimators': [100, 200, 300, 400,\n",
       "                                                         500, 600, 700, 800,\n",
       "                                                         900, 1000]},\n",
       "                   random_state=10, refit='f1',\n",
       "                   scoring=['f1', 'precision', 'recall'], verbose=2)"
      ]
     },
     "execution_count": 46,
     "metadata": {},
     "output_type": "execute_result"
    }
   ],
   "source": [
    "rf_clsf = RandomForestClassifier(random_state=10)\n",
    "rf_random_2 = RandomizedSearchCV(estimator = rf_clsf, param_distributions = rf_random_grid, n_iter = 10, cv = 3, verbose=2, random_state=10, n_jobs = -1, refit='f1', scoring=['f1', 'precision', 'recall'])\n",
    "rf_random_2.fit(X_train, y_train)"
   ]
  },
  {
   "cell_type": "code",
   "execution_count": 47,
   "metadata": {
    "_uuid": "d58f050ccc0c38b8869a2dd5d687fc7c052550cd"
   },
   "outputs": [
    {
     "data": {
      "text/plain": [
       "RandomForestClassifier(bootstrap=False, max_depth=100, max_features='sqrt',\n",
       "                       n_estimators=200, random_state=10)"
      ]
     },
     "execution_count": 47,
     "metadata": {},
     "output_type": "execute_result"
    }
   ],
   "source": [
    "best_rf_clsf = rf_random_2.best_estimator_\n",
    "best_rf_clsf.fit(X_train, y_train)"
   ]
  },
  {
   "cell_type": "code",
   "execution_count": 48,
   "metadata": {
    "_uuid": "f095887d26086c0b70d5c5a0ebdabaa18d864c48"
   },
   "outputs": [
    {
     "name": "stdout",
     "output_type": "stream",
     "text": [
      "0.9818757902921966\n",
      "0.36585365853658536 0.32608695652173914 0.3448275862068966\n",
      "41 46 15\n"
     ]
    }
   ],
   "source": [
    "print(rf_random_2.best_score_)\n",
    "print(recall_score(y_test, best_rf_clsf.predict(X_test)),\n",
    "      precision_score(y_test, best_rf_clsf.predict(X_test)),\n",
    "      f1_score(y_test, best_rf_clsf.predict(X_test)))\n",
    "print(sum(y_test), sum(best_rf_clsf.predict(X_test)), sum(y_test.multiply(best_rf_clsf.predict(X_test))))"
   ]
  },
  {
   "cell_type": "code",
   "execution_count": 56,
   "metadata": {},
   "outputs": [
    {
     "data": {
      "text/plain": [
       "<matplotlib.legend.Legend at 0x1fd445d0860>"
      ]
     },
     "execution_count": 56,
     "metadata": {},
     "output_type": "execute_result"
    },
    {
     "data": {
      "image/png": "[encoded data removed]",
      "text/plain": [
       "<Figure size 432x288 with 1 Axes>"
      ]
     },
     "metadata": {
      "needs_background": "light"
     },
     "output_type": "display_data"
    }
   ],
   "source": [
    "from sklearn.metrics import roc_auc_score\n",
    "probs = best_xgb_clsf.predict_proba(X_ho)[:,1]\n",
    "#probs = best_xgb_clsf.predict_proba(X_test)\n",
    "    # Рассчитываем roc auc\n",
    "roc_value = roc_auc_score(y_ho, probs)\n",
    "rcVFR = roc_value\n",
    "from sklearn import metrics\n",
    "fpr, tpr, _ = metrics.roc_curve(y_ho, probs)\n",
    "figure = plt.plot(fpr,tpr,label=\"data 1, auc=\"+str(roc_value))\n",
    "plt.legend(loc=4)"
   ]
  },
  {
   "cell_type": "markdown",
   "metadata": {
    "_uuid": "9d5ec46d4e495a25090786aef03e99fb42056485"
   },
   "source": [
    "## Логистическая регрессия после обработки признаков"
   ]
  },
  {
   "cell_type": "code",
   "execution_count": 51,
   "metadata": {
    "_uuid": "26f521fd47749e1b911947e3998f27633c03891d"
   },
   "outputs": [],
   "source": [
    "lr_penalty = ['l1', 'l2']\n",
    "lr_class_weight = ['balanced', None]\n",
    "lr_C = [0.1, 1, 10, 100]\n",
    "#lr_max_iter = [int(x) for x in np.linspace(100, 1000, num = 100)]\n",
    "lr_solver = ['liblinear', 'saga']\n",
    "\n",
    "lr_grid = {'penalty': lr_penalty,\n",
    "           'class_weight': lr_class_weight,\n",
    "           'C': lr_C,\n",
    "           #'max_iter': lr_max_iter,\n",
    "           'solver': lr_solver}"
   ]
  },
  {
   "cell_type": "code",
   "execution_count": 52,
   "metadata": {
    "_uuid": "b4365b7628f18bf9741b9fc1a0e5bde888f3a304",
    "scrolled": true
   },
   "outputs": [
    {
     "name": "stdout",
     "output_type": "stream",
     "text": [
      "Fitting 3 folds for each of 32 candidates, totalling 96 fits\n"
     ]
    },
    {
     "name": "stderr",
     "output_type": "stream",
     "text": [
      "[Parallel(n_jobs=-1)]: Using backend LokyBackend with 8 concurrent workers.\n",
      "[Parallel(n_jobs=-1)]: Done  31 tasks      | elapsed:   43.3s\n",
      "[Parallel(n_jobs=-1)]: Done  96 out of  96 | elapsed:  3.1min finished\n"
     ]
    },
    {
     "data": {
      "text/plain": [
       "GridSearchCV(cv=3, estimator=LogisticRegression(max_iter=2000, random_state=10),\n",
       "             n_jobs=-1,\n",
       "             param_grid={'C': [0.1, 1, 10, 100],\n",
       "                         'class_weight': ['balanced', None],\n",
       "                         'penalty': ['l1', 'l2'],\n",
       "                         'solver': ['liblinear', 'saga']},\n",
       "             refit='f1', scoring=['f1', 'precision', 'recall'], verbose=2)"
      ]
     },
     "execution_count": 52,
     "metadata": {},
     "output_type": "execute_result"
    }
   ],
   "source": [
    "lr_clsf = LogisticRegression(random_state=10, max_iter=2000)\n",
    "lr_grid_2 = GridSearchCV(estimator = lr_clsf, param_grid = lr_grid, cv = 3, verbose=2, n_jobs = -1, refit='f1', scoring=['f1', 'precision', 'recall'])\n",
    "lr_grid_2.fit(X_train, y_train)"
   ]
  },
  {
   "cell_type": "code",
   "execution_count": 53,
   "metadata": {
    "_uuid": "45c3c4e9417ad25fe75c3fca2e14e0373d531cb0"
   },
   "outputs": [
    {
     "data": {
      "text/plain": [
       "LogisticRegression(C=100, class_weight='balanced', max_iter=2000, penalty='l1',\n",
       "                   random_state=10, solver='liblinear')"
      ]
     },
     "execution_count": 53,
     "metadata": {},
     "output_type": "execute_result"
    }
   ],
   "source": [
    "best_lr_clsf = lr_grid_2.best_estimator_\n",
    "best_lr_clsf.fit(X_train, y_train)"
   ]
  },
  {
   "cell_type": "code",
   "execution_count": 54,
   "metadata": {
    "_uuid": "4a72ad3162e09037ba05e1b5dd9b21f9eaeefc96"
   },
   "outputs": [
    {
     "name": "stdout",
     "output_type": "stream",
     "text": [
      "0.9395283705156022\n",
      "0.7804878048780488 0.1839080459770115 0.29767441860465116\n",
      "41 174 32\n"
     ]
    }
   ],
   "source": [
    "print(lr_grid_2.best_score_)\n",
    "print(recall_score(y_test, best_lr_clsf.predict(X_test)),\n",
    "      precision_score(y_test, best_lr_clsf.predict(X_test)),\n",
    "      f1_score(y_test, best_lr_clsf.predict(X_test)))\n",
    "print(sum(y_test), sum(best_lr_clsf.predict(X_test)), sum(y_test.multiply(best_lr_clsf.predict(X_test))))"
   ]
  },
  {
   "cell_type": "code",
   "execution_count": 56,
   "metadata": {
    "collapsed": true,
    "jupyter": {
     "outputs_hidden": true
    }
   },
   "outputs": [
    {
     "ename": "ValueError",
     "evalue": "X has 82 features per sample; expecting 119",
     "output_type": "error",
     "traceback": [
      "\u001b[1;31m---------------------------------------------------------------------------\u001b[0m",
      "\u001b[1;31mValueError\u001b[0m                                Traceback (most recent call last)",
      "\u001b[1;32m<ipython-input-56-9d46f130fecc>\u001b[0m in \u001b[0;36m<module>\u001b[1;34m\u001b[0m\n\u001b[0;32m      1\u001b[0m \u001b[1;32mfrom\u001b[0m \u001b[0msklearn\u001b[0m\u001b[1;33m.\u001b[0m\u001b[0mmetrics\u001b[0m \u001b[1;32mimport\u001b[0m \u001b[0mroc_auc_score\u001b[0m\u001b[1;33m\u001b[0m\u001b[1;33m\u001b[0m\u001b[0m\n\u001b[1;32m----> 2\u001b[1;33m \u001b[0mprobs\u001b[0m \u001b[1;33m=\u001b[0m \u001b[0mbest_lr_clsf\u001b[0m\u001b[1;33m.\u001b[0m\u001b[0mpredict_proba\u001b[0m\u001b[1;33m(\u001b[0m\u001b[0mX_ho\u001b[0m\u001b[1;33m)\u001b[0m\u001b[1;33m[\u001b[0m\u001b[1;33m:\u001b[0m\u001b[1;33m,\u001b[0m\u001b[1;36m1\u001b[0m\u001b[1;33m]\u001b[0m\u001b[1;33m\u001b[0m\u001b[1;33m\u001b[0m\u001b[0m\n\u001b[0m\u001b[0;32m      3\u001b[0m     \u001b[1;31m# Рассчитываем roc auc\u001b[0m\u001b[1;33m\u001b[0m\u001b[1;33m\u001b[0m\u001b[1;33m\u001b[0m\u001b[0m\n\u001b[0;32m      4\u001b[0m \u001b[0mroc_value\u001b[0m \u001b[1;33m=\u001b[0m \u001b[0mroc_auc_score\u001b[0m\u001b[1;33m(\u001b[0m\u001b[0my_ho\u001b[0m\u001b[1;33m,\u001b[0m \u001b[0mprobs\u001b[0m\u001b[1;33m)\u001b[0m\u001b[1;33m\u001b[0m\u001b[1;33m\u001b[0m\u001b[0m\n\u001b[0;32m      5\u001b[0m \u001b[1;33m\u001b[0m\u001b[0m\n",
      "\u001b[1;32m~\\Anaconda3\\lib\\site-packages\\sklearn\\linear_model\\_logistic.py\u001b[0m in \u001b[0;36mpredict_proba\u001b[1;34m(self, X)\u001b[0m\n\u001b[0;32m   1466\u001b[0m                                                 self.solver == 'liblinear')))\n\u001b[0;32m   1467\u001b[0m         \u001b[1;32mif\u001b[0m \u001b[0movr\u001b[0m\u001b[1;33m:\u001b[0m\u001b[1;33m\u001b[0m\u001b[1;33m\u001b[0m\u001b[0m\n\u001b[1;32m-> 1468\u001b[1;33m             \u001b[1;32mreturn\u001b[0m \u001b[0msuper\u001b[0m\u001b[1;33m(\u001b[0m\u001b[1;33m)\u001b[0m\u001b[1;33m.\u001b[0m\u001b[0m_predict_proba_lr\u001b[0m\u001b[1;33m(\u001b[0m\u001b[0mX\u001b[0m\u001b[1;33m)\u001b[0m\u001b[1;33m\u001b[0m\u001b[1;33m\u001b[0m\u001b[0m\n\u001b[0m\u001b[0;32m   1469\u001b[0m         \u001b[1;32melse\u001b[0m\u001b[1;33m:\u001b[0m\u001b[1;33m\u001b[0m\u001b[1;33m\u001b[0m\u001b[0m\n\u001b[0;32m   1470\u001b[0m             \u001b[0mdecision\u001b[0m \u001b[1;33m=\u001b[0m \u001b[0mself\u001b[0m\u001b[1;33m.\u001b[0m\u001b[0mdecision_function\u001b[0m\u001b[1;33m(\u001b[0m\u001b[0mX\u001b[0m\u001b[1;33m)\u001b[0m\u001b[1;33m\u001b[0m\u001b[1;33m\u001b[0m\u001b[0m\n",
      "\u001b[1;32m~\\Anaconda3\\lib\\site-packages\\sklearn\\linear_model\\_base.py\u001b[0m in \u001b[0;36m_predict_proba_lr\u001b[1;34m(self, X)\u001b[0m\n\u001b[0;32m    319\u001b[0m         \u001b[0mmulticlass\u001b[0m \u001b[1;32mis\u001b[0m \u001b[0mhandled\u001b[0m \u001b[0mby\u001b[0m \u001b[0mnormalizing\u001b[0m \u001b[0mthat\u001b[0m \u001b[0mover\u001b[0m \u001b[0mall\u001b[0m \u001b[0mclasses\u001b[0m\u001b[1;33m.\u001b[0m\u001b[1;33m\u001b[0m\u001b[1;33m\u001b[0m\u001b[0m\n\u001b[0;32m    320\u001b[0m         \"\"\"\n\u001b[1;32m--> 321\u001b[1;33m         \u001b[0mprob\u001b[0m \u001b[1;33m=\u001b[0m \u001b[0mself\u001b[0m\u001b[1;33m.\u001b[0m\u001b[0mdecision_function\u001b[0m\u001b[1;33m(\u001b[0m\u001b[0mX\u001b[0m\u001b[1;33m)\u001b[0m\u001b[1;33m\u001b[0m\u001b[1;33m\u001b[0m\u001b[0m\n\u001b[0m\u001b[0;32m    322\u001b[0m         \u001b[0mexpit\u001b[0m\u001b[1;33m(\u001b[0m\u001b[0mprob\u001b[0m\u001b[1;33m,\u001b[0m \u001b[0mout\u001b[0m\u001b[1;33m=\u001b[0m\u001b[0mprob\u001b[0m\u001b[1;33m)\u001b[0m\u001b[1;33m\u001b[0m\u001b[1;33m\u001b[0m\u001b[0m\n\u001b[0;32m    323\u001b[0m         \u001b[1;32mif\u001b[0m \u001b[0mprob\u001b[0m\u001b[1;33m.\u001b[0m\u001b[0mndim\u001b[0m \u001b[1;33m==\u001b[0m \u001b[1;36m1\u001b[0m\u001b[1;33m:\u001b[0m\u001b[1;33m\u001b[0m\u001b[1;33m\u001b[0m\u001b[0m\n",
      "\u001b[1;32m~\\Anaconda3\\lib\\site-packages\\sklearn\\linear_model\\_base.py\u001b[0m in \u001b[0;36mdecision_function\u001b[1;34m(self, X)\u001b[0m\n\u001b[0;32m    285\u001b[0m         \u001b[1;32mif\u001b[0m \u001b[0mX\u001b[0m\u001b[1;33m.\u001b[0m\u001b[0mshape\u001b[0m\u001b[1;33m[\u001b[0m\u001b[1;36m1\u001b[0m\u001b[1;33m]\u001b[0m \u001b[1;33m!=\u001b[0m \u001b[0mn_features\u001b[0m\u001b[1;33m:\u001b[0m\u001b[1;33m\u001b[0m\u001b[1;33m\u001b[0m\u001b[0m\n\u001b[0;32m    286\u001b[0m             raise ValueError(\"X has %d features per sample; expecting %d\"\n\u001b[1;32m--> 287\u001b[1;33m                              % (X.shape[1], n_features))\n\u001b[0m\u001b[0;32m    288\u001b[0m \u001b[1;33m\u001b[0m\u001b[0m\n\u001b[0;32m    289\u001b[0m         scores = safe_sparse_dot(X, self.coef_.T,\n",
      "\u001b[1;31mValueError\u001b[0m: X has 82 features per sample; expecting 119"
     ]
    }
   ],
   "source": [
    "from sklearn.metrics import roc_auc_score\n",
    "probs = best_lr_clsf.predict_proba(X_ho)[:,1]\n",
    "    # Рассчитываем roc auc\n",
    "roc_value = roc_auc_score(y_ho, probs)\n",
    "    \n",
    "from sklearn import metrics\n",
    "fpr, tpr, _ = metrics.roc_curve(y_ho, probs)\n",
    "figure = plt.plot(fpr,tpr,label=\"data 1, auc=\"+str(roc_value))\n",
    "plt.legend(loc=4)"
   ]
  },
  {
   "cell_type": "markdown",
   "metadata": {
    "_uuid": "2e3d2ab63c9fcb1ddf36feedb278b5ec871f5b7e"
   },
   "source": [
    "## XGBoost после обработки признаков"
   ]
  },
  {
   "cell_type": "code",
   "execution_count": 57,
   "metadata": {
    "_uuid": "21b52fd30665ecdd4bb28e504ad22aa95b4bc1f8"
   },
   "outputs": [],
   "source": [
    "xgb_learning_rate = [x for x in np.linspace(start = 0.001, stop = 0.1, num = 10)]\n",
    "xgb_n_estimators = [int(x) for x in np.linspace(start = 100, stop = 1000, num = 10)]\n",
    "xgb_booster = ['gbtree', 'dart']\n",
    "xgb_colsample_bytree = [0.4, 0.6, 0.8, 1.0]\n",
    "xgb_colsample_bylevel = [0.5, 0.75, 1.0]\n",
    "xgb_scale_pos_weight = [(len(y_cv) - sum(y_cv))/sum(y_cv)]\n",
    "xgb_min_child_weight = [1]\n",
    "xgb_subsample = [0.5, 1.0]\n",
    "\n",
    "\n",
    "random_grid = {'learning_rate': xgb_learning_rate,\n",
    "               'n_estimators': xgb_n_estimators,\n",
    "               'booster': xgb_booster,\n",
    "               'colsample_bytree': xgb_colsample_bytree,\n",
    "               'colsample_bylevel': xgb_colsample_bylevel,\n",
    "               'scale_pos_weight': xgb_scale_pos_weight,\n",
    "               'min_child_weight': xgb_min_child_weight,\n",
    "               'subsample': xgb_subsample}"
   ]
  },
  {
   "cell_type": "code",
   "execution_count": 58,
   "metadata": {
    "_uuid": "aeb38fdee38b816344010a774732a36d88509432"
   },
   "outputs": [
    {
     "name": "stdout",
     "output_type": "stream",
     "text": [
      "Fitting 3 folds for each of 10 candidates, totalling 30 fits\n"
     ]
    },
    {
     "name": "stderr",
     "output_type": "stream",
     "text": [
      "[Parallel(n_jobs=-1)]: Using backend LokyBackend with 8 concurrent workers.\n",
      "[Parallel(n_jobs=-1)]: Done  30 out of  30 | elapsed:   58.0s finished\n"
     ]
    },
    {
     "data": {
      "text/plain": [
       "RandomizedSearchCV(cv=3,\n",
       "                   estimator=XGBClassifier(base_score=None, booster=None,\n",
       "                                           colsample_bylevel=None,\n",
       "                                           colsample_bynode=None,\n",
       "                                           colsample_bytree=None, gamma=None,\n",
       "                                           gpu_id=None, importance_type='gain',\n",
       "                                           interaction_constraints=None,\n",
       "                                           learning_rate=None,\n",
       "                                           max_delta_step=None, max_depth=None,\n",
       "                                           min_child_weight=None, missing=nan,\n",
       "                                           monotone_constraints=None,\n",
       "                                           n_estimators=100,...\n",
       "                                        'learning_rate': [0.001, 0.012,\n",
       "                                                          0.023000000000000003,\n",
       "                                                          0.034,\n",
       "                                                          0.045000000000000005,\n",
       "                                                          0.05600000000000001,\n",
       "                                                          0.067,\n",
       "                                                          0.07800000000000001,\n",
       "                                                          0.08900000000000001,\n",
       "                                                          0.1],\n",
       "                                        'min_child_weight': [1],\n",
       "                                        'n_estimators': [100, 200, 300, 400,\n",
       "                                                         500, 600, 700, 800,\n",
       "                                                         900, 1000],\n",
       "                                        'scale_pos_weight': [26.05263157894737],\n",
       "                                        'subsample': [0.5, 1.0]},\n",
       "                   random_state=10, refit='f1',\n",
       "                   scoring=['f1', 'precision', 'recall'], verbose=2)"
      ]
     },
     "execution_count": 58,
     "metadata": {},
     "output_type": "execute_result"
    }
   ],
   "source": [
    "xgb_clsf = xgb.XGBClassifier(random_state=10)\n",
    "xgb_random_2 = RandomizedSearchCV(estimator = xgb_clsf, param_distributions = random_grid, n_iter = 10, cv = 3, verbose=2, random_state=10, n_jobs = -1, refit='f1', scoring=['f1', 'precision', 'recall'])\n",
    "xgb_random_2.fit(X_train, y_train)"
   ]
  },
  {
   "cell_type": "code",
   "execution_count": 59,
   "metadata": {
    "_uuid": "a595a14f8bf676f322f1515a142afe1022134e2e"
   },
   "outputs": [
    {
     "data": {
      "text/plain": [
       "XGBClassifier(base_score=0.5, booster='gbtree', colsample_bylevel=1.0,\n",
       "              colsample_bynode=1, colsample_bytree=0.6, gamma=0, gpu_id=-1,\n",
       "              importance_type='gain', interaction_constraints='',\n",
       "              learning_rate=0.07800000000000001, max_delta_step=0, max_depth=6,\n",
       "              min_child_weight=1, missing=nan, monotone_constraints='()',\n",
       "              n_estimators=500, n_jobs=0, num_parallel_tree=1, random_state=10,\n",
       "              reg_alpha=0, reg_lambda=1, scale_pos_weight=26.05263157894737,\n",
       "              subsample=1.0, tree_method='exact', validate_parameters=1,\n",
       "              verbosity=None)"
      ]
     },
     "execution_count": 59,
     "metadata": {},
     "output_type": "execute_result"
    }
   ],
   "source": [
    "best_xgb_clsf = xgb_random_2.best_estimator_\n",
    "best_xgb_clsf.fit(X_train, y_train)"
   ]
  },
  {
   "cell_type": "code",
   "execution_count": 60,
   "metadata": {
    "_uuid": "87b6434a5bcba37a11764ab02513cbc2a400459c"
   },
   "outputs": [
    {
     "name": "stdout",
     "output_type": "stream",
     "text": [
      "0.9717058253665068\n"
     ]
    },
    {
     "ename": "ValueError",
     "evalue": "feature_names mismatch: ['x1', 'x2', 'x3', 'x4', 'x5', 'x6', 'x7', 'x8', 'x9', 'x10', 'x11', 'x12', 'x13', 'x14', 'x15', 'x16', 'x17', 'x18', 'x19', 'x20', 'x21', 'x22', 'x23', 'x24', 'x25', 'x26', 'x27', 'x28', 'x29', 'x30', 'x31', 'x32', 'x33', 'x34', 'x35', 'x36', 'x37', 'x38', 'x39', 'x40', 'x41', 'x42', 'x43', 'x44', 'x45', 'x46', 'x47', 'x48', 'x49', 'x50', 'x51', 'x52', 'x53', 'x54', 'x55', 'x56', 'x57', 'x58', 'x59', 'x60', 'x61', 'x62', 'x63', 'x64', 'x65', 'x66', 'x67', 'x68', 'x69', 'x70', 'x71', 'x72', 'x73', 'x74', 'x75', 'x76', 'x77', 'x78', 'x79', 'x81', 'x82', 'x83', 'x80__1', 'x80__2', 'x80__3', 'x80__4', 'x80__5', 'x80__6', 'x80__7', 'x80__8', 'x80__9', 'x80__10', 'x80__11', 'x80__12', 'x80__13', 'x80__14', 'x80__15', 'x80__16', 'x80__17', 'x80__18', 'x80__19', 'x80__20', 'x80__21', 'x80__22', 'x80__23', 'x80__24', 'x80__25', 'x80__26', 'x80__27', 'x80__28', 'x80__29', 'x80__30', 'x80__31', 'x80__32', 'x80__33', 'x80__34', 'x80__35', 'x80__36', 'x80__37'] ['f0', 'f1', 'f2', 'f3', 'f4', 'f5', 'f6', 'f7', 'f8', 'f9', 'f10', 'f11', 'f12', 'f13', 'f14', 'f15', 'f16', 'f17', 'f18', 'f19', 'f20', 'f21', 'f22', 'f23', 'f24', 'f25', 'f26', 'f27', 'f28', 'f29', 'f30', 'f31', 'f32', 'f33', 'f34', 'f35', 'f36', 'f37', 'f38', 'f39', 'f40', 'f41', 'f42', 'f43', 'f44', 'f45', 'f46', 'f47', 'f48', 'f49', 'f50', 'f51', 'f52', 'f53', 'f54', 'f55', 'f56', 'f57', 'f58', 'f59', 'f60', 'f61', 'f62', 'f63', 'f64', 'f65', 'f66', 'f67', 'f68', 'f69', 'f70', 'f71', 'f72', 'f73', 'f74', 'f75', 'f76', 'f77', 'f78', 'f79', 'f80', 'f81', 'f82', 'f83', 'f84', 'f85', 'f86', 'f87', 'f88', 'f89', 'f90', 'f91', 'f92', 'f93', 'f94', 'f95', 'f96', 'f97', 'f98', 'f99', 'f100', 'f101', 'f102', 'f103', 'f104', 'f105', 'f106', 'f107', 'f108', 'f109', 'f110', 'f111', 'f112', 'f113', 'f114', 'f115', 'f116', 'f117', 'f118']\nexpected x53, x37, x33, x18, x80__26, x79, x81, x80__16, x50, x1, x65, x4, x80__8, x51, x64, x22, x80__2, x5, x80__17, x54, x80__28, x41, x49, x19, x80__35, x80__21, x80__30, x66, x11, x21, x82, x80__14, x70, x46, x80__13, x80__22, x8, x80__36, x80__20, x61, x80__5, x47, x36, x10, x80__3, x57, x77, x58, x20, x6, x80__33, x26, x31, x43, x25, x78, x39, x80__18, x62, x73, x60, x80__37, x80__19, x69, x12, x27, x80__1, x24, x9, x16, x80__6, x32, x80__10, x80__34, x13, x48, x80__29, x80__24, x42, x14, x44, x45, x23, x83, x80__15, x28, x56, x72, x2, x80__31, x76, x80__11, x15, x80__27, x80__4, x75, x30, x80__23, x52, x63, x3, x35, x68, x80__12, x34, x80__32, x17, x40, x38, x55, x59, x29, x7, x80__7, x67, x71, x74, x80__9, x80__25 in input data\ntraining data did not have the following fields: f43, f113, f30, f104, f53, f97, f68, f112, f111, f17, f11, f103, f74, f71, f86, f21, f75, f99, f36, f95, f1, f96, f85, f79, f20, f37, f65, f105, f7, f38, f9, f39, f23, f92, f94, f35, f102, f63, f56, f12, f15, f33, f114, f118, f16, f8, f106, f77, f51, f41, f66, f83, f2, f31, f100, f116, f72, f73, f91, f0, f98, f101, f60, f70, f88, f47, f117, f3, f22, f84, f58, f46, f27, f54, f24, f108, f87, f34, f110, f6, f44, f64, f59, f25, f76, f29, f89, f57, f62, f81, f28, f5, f69, f26, f10, f45, f4, f107, f18, f40, f55, f48, f13, f80, f78, f67, f19, f50, f93, f42, f14, f109, f115, f52, f49, f90, f61, f82, f32",
     "output_type": "error",
     "traceback": [
      "\u001b[1;31m---------------------------------------------------------------------------\u001b[0m",
      "\u001b[1;31mValueError\u001b[0m                                Traceback (most recent call last)",
      "\u001b[1;32m<ipython-input-60-36efeb70cee3>\u001b[0m in \u001b[0;36m<module>\u001b[1;34m\u001b[0m\n\u001b[0;32m      1\u001b[0m \u001b[0mprint\u001b[0m\u001b[1;33m(\u001b[0m\u001b[0mxgb_random_2\u001b[0m\u001b[1;33m.\u001b[0m\u001b[0mbest_score_\u001b[0m\u001b[1;33m)\u001b[0m\u001b[1;33m\u001b[0m\u001b[1;33m\u001b[0m\u001b[0m\n\u001b[1;32m----> 2\u001b[1;33m print(recall_score(y_test, best_xgb_clsf.predict(X_test.values)),\n\u001b[0m\u001b[0;32m      3\u001b[0m       \u001b[0mprecision_score\u001b[0m\u001b[1;33m(\u001b[0m\u001b[0my_test\u001b[0m\u001b[1;33m,\u001b[0m \u001b[0mbest_xgb_clsf\u001b[0m\u001b[1;33m.\u001b[0m\u001b[0mpredict\u001b[0m\u001b[1;33m(\u001b[0m\u001b[0mX_test\u001b[0m\u001b[1;33m.\u001b[0m\u001b[0mvalues\u001b[0m\u001b[1;33m)\u001b[0m\u001b[1;33m)\u001b[0m\u001b[1;33m,\u001b[0m\u001b[1;33m\u001b[0m\u001b[1;33m\u001b[0m\u001b[0m\n\u001b[0;32m      4\u001b[0m       f1_score(y_test, best_xgb_clsf.predict(X_test.values)))\n\u001b[0;32m      5\u001b[0m \u001b[0mprint\u001b[0m\u001b[1;33m(\u001b[0m\u001b[0msum\u001b[0m\u001b[1;33m(\u001b[0m\u001b[0my_test\u001b[0m\u001b[1;33m)\u001b[0m\u001b[1;33m,\u001b[0m \u001b[0msum\u001b[0m\u001b[1;33m(\u001b[0m\u001b[0mbest_xgb_clsf\u001b[0m\u001b[1;33m.\u001b[0m\u001b[0mpredict\u001b[0m\u001b[1;33m(\u001b[0m\u001b[0mX_test\u001b[0m\u001b[1;33m.\u001b[0m\u001b[0mvalues\u001b[0m\u001b[1;33m)\u001b[0m\u001b[1;33m)\u001b[0m\u001b[1;33m,\u001b[0m \u001b[0msum\u001b[0m\u001b[1;33m(\u001b[0m\u001b[0my_test\u001b[0m\u001b[1;33m.\u001b[0m\u001b[0mmultiply\u001b[0m\u001b[1;33m(\u001b[0m\u001b[0mbest_xgb_clsf\u001b[0m\u001b[1;33m.\u001b[0m\u001b[0mpredict\u001b[0m\u001b[1;33m(\u001b[0m\u001b[0mX_test\u001b[0m\u001b[1;33m.\u001b[0m\u001b[0mvalues\u001b[0m\u001b[1;33m)\u001b[0m\u001b[1;33m)\u001b[0m\u001b[1;33m)\u001b[0m\u001b[1;33m)\u001b[0m\u001b[1;33m\u001b[0m\u001b[1;33m\u001b[0m\u001b[0m\n",
      "\u001b[1;32m~\\Anaconda3\\lib\\site-packages\\xgboost\\sklearn.py\u001b[0m in \u001b[0;36mpredict\u001b[1;34m(self, data, output_margin, ntree_limit, validate_features, base_margin)\u001b[0m\n\u001b[0;32m    896\u001b[0m             \u001b[0moutput_margin\u001b[0m\u001b[1;33m=\u001b[0m\u001b[0moutput_margin\u001b[0m\u001b[1;33m,\u001b[0m\u001b[1;33m\u001b[0m\u001b[1;33m\u001b[0m\u001b[0m\n\u001b[0;32m    897\u001b[0m             \u001b[0mntree_limit\u001b[0m\u001b[1;33m=\u001b[0m\u001b[0mntree_limit\u001b[0m\u001b[1;33m,\u001b[0m\u001b[1;33m\u001b[0m\u001b[1;33m\u001b[0m\u001b[0m\n\u001b[1;32m--> 898\u001b[1;33m             validate_features=validate_features)\n\u001b[0m\u001b[0;32m    899\u001b[0m         \u001b[1;32mif\u001b[0m \u001b[0moutput_margin\u001b[0m\u001b[1;33m:\u001b[0m\u001b[1;33m\u001b[0m\u001b[1;33m\u001b[0m\u001b[0m\n\u001b[0;32m    900\u001b[0m             \u001b[1;31m# If output_margin is active, simply return the scores\u001b[0m\u001b[1;33m\u001b[0m\u001b[1;33m\u001b[0m\u001b[1;33m\u001b[0m\u001b[0m\n",
      "\u001b[1;32m~\\Anaconda3\\lib\\site-packages\\xgboost\\core.py\u001b[0m in \u001b[0;36mpredict\u001b[1;34m(self, data, output_margin, ntree_limit, pred_leaf, pred_contribs, approx_contribs, pred_interactions, validate_features, training)\u001b[0m\n\u001b[0;32m   1362\u001b[0m \u001b[1;33m\u001b[0m\u001b[0m\n\u001b[0;32m   1363\u001b[0m         \u001b[1;32mif\u001b[0m \u001b[0mvalidate_features\u001b[0m\u001b[1;33m:\u001b[0m\u001b[1;33m\u001b[0m\u001b[1;33m\u001b[0m\u001b[0m\n\u001b[1;32m-> 1364\u001b[1;33m             \u001b[0mself\u001b[0m\u001b[1;33m.\u001b[0m\u001b[0m_validate_features\u001b[0m\u001b[1;33m(\u001b[0m\u001b[0mdata\u001b[0m\u001b[1;33m)\u001b[0m\u001b[1;33m\u001b[0m\u001b[1;33m\u001b[0m\u001b[0m\n\u001b[0m\u001b[0;32m   1365\u001b[0m \u001b[1;33m\u001b[0m\u001b[0m\n\u001b[0;32m   1366\u001b[0m         \u001b[0mlength\u001b[0m \u001b[1;33m=\u001b[0m \u001b[0mc_bst_ulong\u001b[0m\u001b[1;33m(\u001b[0m\u001b[1;33m)\u001b[0m\u001b[1;33m\u001b[0m\u001b[1;33m\u001b[0m\u001b[0m\n",
      "\u001b[1;32m~\\Anaconda3\\lib\\site-packages\\xgboost\\core.py\u001b[0m in \u001b[0;36m_validate_features\u001b[1;34m(self, data)\u001b[0m\n\u001b[0;32m   1934\u001b[0m \u001b[1;33m\u001b[0m\u001b[0m\n\u001b[0;32m   1935\u001b[0m                 raise ValueError(msg.format(self.feature_names,\n\u001b[1;32m-> 1936\u001b[1;33m                                             data.feature_names))\n\u001b[0m\u001b[0;32m   1937\u001b[0m \u001b[1;33m\u001b[0m\u001b[0m\n\u001b[0;32m   1938\u001b[0m     def get_split_value_histogram(self, feature, fmap='', bins=None,\n",
      "\u001b[1;31mValueError\u001b[0m: feature_names mismatch: ['x1', 'x2', 'x3', 'x4', 'x5', 'x6', 'x7', 'x8', 'x9', 'x10', 'x11', 'x12', 'x13', 'x14', 'x15', 'x16', 'x17', 'x18', 'x19', 'x20', 'x21', 'x22', 'x23', 'x24', 'x25', 'x26', 'x27', 'x28', 'x29', 'x30', 'x31', 'x32', 'x33', 'x34', 'x35', 'x36', 'x37', 'x38', 'x39', 'x40', 'x41', 'x42', 'x43', 'x44', 'x45', 'x46', 'x47', 'x48', 'x49', 'x50', 'x51', 'x52', 'x53', 'x54', 'x55', 'x56', 'x57', 'x58', 'x59', 'x60', 'x61', 'x62', 'x63', 'x64', 'x65', 'x66', 'x67', 'x68', 'x69', 'x70', 'x71', 'x72', 'x73', 'x74', 'x75', 'x76', 'x77', 'x78', 'x79', 'x81', 'x82', 'x83', 'x80__1', 'x80__2', 'x80__3', 'x80__4', 'x80__5', 'x80__6', 'x80__7', 'x80__8', 'x80__9', 'x80__10', 'x80__11', 'x80__12', 'x80__13', 'x80__14', 'x80__15', 'x80__16', 'x80__17', 'x80__18', 'x80__19', 'x80__20', 'x80__21', 'x80__22', 'x80__23', 'x80__24', 'x80__25', 'x80__26', 'x80__27', 'x80__28', 'x80__29', 'x80__30', 'x80__31', 'x80__32', 'x80__33', 'x80__34', 'x80__35', 'x80__36', 'x80__37'] ['f0', 'f1', 'f2', 'f3', 'f4', 'f5', 'f6', 'f7', 'f8', 'f9', 'f10', 'f11', 'f12', 'f13', 'f14', 'f15', 'f16', 'f17', 'f18', 'f19', 'f20', 'f21', 'f22', 'f23', 'f24', 'f25', 'f26', 'f27', 'f28', 'f29', 'f30', 'f31', 'f32', 'f33', 'f34', 'f35', 'f36', 'f37', 'f38', 'f39', 'f40', 'f41', 'f42', 'f43', 'f44', 'f45', 'f46', 'f47', 'f48', 'f49', 'f50', 'f51', 'f52', 'f53', 'f54', 'f55', 'f56', 'f57', 'f58', 'f59', 'f60', 'f61', 'f62', 'f63', 'f64', 'f65', 'f66', 'f67', 'f68', 'f69', 'f70', 'f71', 'f72', 'f73', 'f74', 'f75', 'f76', 'f77', 'f78', 'f79', 'f80', 'f81', 'f82', 'f83', 'f84', 'f85', 'f86', 'f87', 'f88', 'f89', 'f90', 'f91', 'f92', 'f93', 'f94', 'f95', 'f96', 'f97', 'f98', 'f99', 'f100', 'f101', 'f102', 'f103', 'f104', 'f105', 'f106', 'f107', 'f108', 'f109', 'f110', 'f111', 'f112', 'f113', 'f114', 'f115', 'f116', 'f117', 'f118']\nexpected x53, x37, x33, x18, x80__26, x79, x81, x80__16, x50, x1, x65, x4, x80__8, x51, x64, x22, x80__2, x5, x80__17, x54, x80__28, x41, x49, x19, x80__35, x80__21, x80__30, x66, x11, x21, x82, x80__14, x70, x46, x80__13, x80__22, x8, x80__36, x80__20, x61, x80__5, x47, x36, x10, x80__3, x57, x77, x58, x20, x6, x80__33, x26, x31, x43, x25, x78, x39, x80__18, x62, x73, x60, x80__37, x80__19, x69, x12, x27, x80__1, x24, x9, x16, x80__6, x32, x80__10, x80__34, x13, x48, x80__29, x80__24, x42, x14, x44, x45, x23, x83, x80__15, x28, x56, x72, x2, x80__31, x76, x80__11, x15, x80__27, x80__4, x75, x30, x80__23, x52, x63, x3, x35, x68, x80__12, x34, x80__32, x17, x40, x38, x55, x59, x29, x7, x80__7, x67, x71, x74, x80__9, x80__25 in input data\ntraining data did not have the following fields: f43, f113, f30, f104, f53, f97, f68, f112, f111, f17, f11, f103, f74, f71, f86, f21, f75, f99, f36, f95, f1, f96, f85, f79, f20, f37, f65, f105, f7, f38, f9, f39, f23, f92, f94, f35, f102, f63, f56, f12, f15, f33, f114, f118, f16, f8, f106, f77, f51, f41, f66, f83, f2, f31, f100, f116, f72, f73, f91, f0, f98, f101, f60, f70, f88, f47, f117, f3, f22, f84, f58, f46, f27, f54, f24, f108, f87, f34, f110, f6, f44, f64, f59, f25, f76, f29, f89, f57, f62, f81, f28, f5, f69, f26, f10, f45, f4, f107, f18, f40, f55, f48, f13, f80, f78, f67, f19, f50, f93, f42, f14, f109, f115, f52, f49, f90, f61, f82, f32"
     ]
    }
   ],
   "source": [
    "print(xgb_random_2.best_score_)\n",
    "print(recall_score(y_test, best_xgb_clsf.predict(X_test.values)),\n",
    "      precision_score(y_test, best_xgb_clsf.predict(X_test.values)),\n",
    "      f1_score(y_test, best_xgb_clsf.predict(X_test.values)))\n",
    "print(sum(y_test), sum(best_xgb_clsf.predict(X_test.values)), sum(y_test.multiply(best_xgb_clsf.predict(X_test.values))))"
   ]
  },
  {
   "cell_type": "code",
   "execution_count": 61,
   "metadata": {
    "_uuid": "9c9d389b7d161e5f0870a02f286134490bfcbd96"
   },
   "outputs": [
    {
     "data": {
      "text/plain": [
       "<matplotlib.legend.Legend at 0x22129871b00>"
      ]
     },
     "execution_count": 61,
     "metadata": {},
     "output_type": "execute_result"
    },
    {
     "data": {
      "image/png": "[encoded data removed]",
      "text/plain": [
       "<Figure size 432x288 with 1 Axes>"
      ]
     },
     "metadata": {
      "needs_background": "light"
     },
     "output_type": "display_data"
    }
   ],
   "source": [
    "from sklearn.metrics import roc_auc_score\n",
    "probs = best_xgb_clsf.predict_proba(X_ho)[:,1]\n",
    "    # Рассчитываем roc auc\n",
    "roc_value = roc_auc_score(y_ho, probs)\n",
    "    \n",
    "from sklearn import metrics\n",
    "fpr, tpr, _ = metrics.roc_curve(y_ho, probs)\n",
    "figure = plt.plot(fpr,tpr,label=\"data 1, auc=\"+str(roc_value))\n",
    "plt.legend(loc=4)"
   ]
  },
  {
   "cell_type": "code",
   "execution_count": null,
   "metadata": {},
   "outputs": [],
   "source": [
    "import pandas as pd data = {'a': 1, 'b': 2} pd.Series(data).to_frame() "
   ]
  },
  {
   "cell_type": "code",
   "execution_count": null,
   "metadata": {},
   "outputs": [],
   "source": [
    "rocVRF = roc_value"
   ]
  }
 ],
 "metadata": {
  "kernelspec": {
   "display_name": "Python 3",
   "language": "python",
   "name": "python3"
  },
  "language_info": {
   "codemirror_mode": {
    "name": "ipython",
    "version": 3
   },
   "file_extension": ".py",
   "mimetype": "text/x-python",
   "name": "python",
   "nbconvert_exporter": "python",
   "pygments_lexer": "ipython3",
   "version": "3.7.3"
  }
 },
 "nbformat": 4,
 "nbformat_minor": 4
}
